{
 "cells": [
  {
   "cell_type": "markdown",
   "source": [
    "# Notebook visualising the preprocessing of the 'public_nuisance' dataset."
   ],
   "metadata": {
    "collapsed": false
   }
  },
  {
   "cell_type": "code",
   "execution_count": 1,
   "metadata": {
    "collapsed": true,
    "ExecuteTime": {
     "start_time": "2023-06-01T22:27:32.240749Z",
     "end_time": "2023-06-01T22:27:32.570890Z"
    }
   },
   "outputs": [],
   "source": [
    "import pandas as pd"
   ]
  },
  {
   "cell_type": "markdown",
   "source": [
    "#### Reading the dataset."
   ],
   "metadata": {
    "collapsed": false
   }
  },
  {
   "cell_type": "code",
   "execution_count": 3,
   "outputs": [],
   "source": [
    "public_nuisance = pd.read_csv('../../../data/raw/public_nuisance.csv')"
   ],
   "metadata": {
    "collapsed": false,
    "ExecuteTime": {
     "start_time": "2023-06-01T22:01:03.492673Z",
     "end_time": "2023-06-01T22:01:03.594840Z"
    }
   }
  },
  {
   "cell_type": "markdown",
   "source": [
    "#### Manually translating some columns from Dutch to English. Additionally, some filters such as:\n",
    "1.  Excluding the Total summed nuisance for each year by applying str.len() > 4.\n",
    "2. Filtering the time period of the whole df from 2014-2020 inclusive and.\n",
    "3. Getting the categories which contain `total` in their name.\n",
    "\n",
    "#### Finally, the aggregated nuisance data is being grouped by year and Neighbourhood ."
   ],
   "metadata": {
    "collapsed": false
   }
  },
  {
   "cell_type": "code",
   "execution_count": 41,
   "outputs": [],
   "source": [
    "public_nuisance['year'] = public_nuisance['Perioden'].str[:4].astype(int)\n",
    "public_nuisance['Neighbourhood'] = public_nuisance['WijkenEnBuurten']\n",
    "public_nuisance['nuisance'] = public_nuisance['GeregistreerdeOverlast_1'].astype(int)\n",
    "\n",
    "public_nuisance = public_nuisance.loc[\n",
    "    (public_nuisance['Perioden'].str.len() > 4) &\n",
    "    (public_nuisance['year'] >= 2014) & (public_nuisance['year'] <= 2020) &\n",
    "    (public_nuisance['Overlast'].str.contains(pat='Totaal'))\n",
    "    ].groupby(['year', 'Neighbourhood'])['nuisance'].mean().reset_index()"
   ],
   "metadata": {
    "collapsed": false,
    "ExecuteTime": {
     "start_time": "2023-06-01T22:01:04.492984Z",
     "end_time": "2023-06-01T22:01:04.581592Z"
    }
   }
  },
  {
   "cell_type": "markdown",
   "source": [
    "#### Saving the preprocessed dataframe to a .csv file."
   ],
   "metadata": {
    "collapsed": false
   }
  },
  {
   "cell_type": "code",
   "execution_count": 43,
   "outputs": [],
   "source": [
    "public_nuisance.to_csv('preprocessed/public_nuisance_preprocessed.csv', index=False)"
   ],
   "metadata": {
    "collapsed": false,
    "ExecuteTime": {
     "start_time": "2023-06-01T22:01:14.524969Z",
     "end_time": "2023-06-01T22:01:14.540435Z"
    }
   }
  },
  {
   "cell_type": "code",
   "execution_count": null,
   "outputs": [],
   "source": [],
   "metadata": {
    "collapsed": false,
    "ExecuteTime": {
     "start_time": "2023-06-01T22:01:05.676711Z",
     "end_time": "2023-06-01T22:01:05.695794Z"
    }
   }
  }
 ],
 "metadata": {
  "kernelspec": {
   "display_name": "Python 3",
   "language": "python",
   "name": "python3"
  },
  "language_info": {
   "codemirror_mode": {
    "name": "ipython",
    "version": 2
   },
   "file_extension": ".py",
   "mimetype": "text/x-python",
   "name": "python",
   "nbconvert_exporter": "python",
   "pygments_lexer": "ipython2",
   "version": "2.7.6"
  }
 },
 "nbformat": 4,
 "nbformat_minor": 0
}
