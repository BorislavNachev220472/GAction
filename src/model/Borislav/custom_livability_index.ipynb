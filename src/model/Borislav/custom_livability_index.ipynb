{
 "cells": [
  {
   "cell_type": "markdown",
   "source": [
    "# Custom Livability Index Calculation Notebook\n",
    "\n",
    "#### 'under the hood' description of the custom index calculation cell by cell."
   ],
   "metadata": {
    "collapsed": false
   }
  },
  {
   "cell_type": "code",
   "execution_count": 1,
   "outputs": [],
   "source": [
    "import pandas as pd\n",
    "import numpy as np"
   ],
   "metadata": {
    "collapsed": false
   }
  },
  {
   "cell_type": "markdown",
   "source": [
    "#### Reading the dataset"
   ],
   "metadata": {
    "collapsed": false
   }
  },
  {
   "cell_type": "code",
   "execution_count": 2,
   "outputs": [],
   "source": [
    "df = pd.read_csv('../../../data/preprocessed/merged.csv')"
   ],
   "metadata": {
    "collapsed": false
   }
  },
  {
   "cell_type": "code",
   "execution_count": 3,
   "outputs": [
    {
     "data": {
      "text/plain": "    Neighbourhood  green_score  Verhuizing  Verhuizing binnen gridcel  \\\n0           Bavel    28.123801    1.632653                   0.000000   \n1           Bavel    28.123801    1.630435                   1.000000   \n2           Bavel    30.643434    1.460000                   0.000000   \n3           Bavel    33.500000    1.589286                   1.000000   \n4           Bavel    30.423769    1.680000                   2.000000   \n..            ...          ...         ...                        ...   \n383      Zandberg    26.731392    4.833333                   1.923077   \n384      Zandberg    20.985215    4.545455                   2.000000   \n385      Zandberg    19.118199    4.000000                   1.600000   \n386      Zandberg    18.183772    4.114286                   1.250000   \n387      Zandberg    18.983877    4.558669                   0.000000   \n\n      Vertrek  Vestiging  year   nuisance  1.1.1 Diefstal/inbraak woning  \\\n0    1.521739   1.625000  2014   4.541667                           66.0   \n1    1.571429   1.529412  2015   4.833333                           56.0   \n2    1.794118   1.361111  2016   4.458333                           57.0   \n3    1.647059   1.904762  2017   4.041667                           52.0   \n4    1.725490   1.733333  2018   3.416667                           68.0   \n..        ...        ...   ...        ...                            ...   \n383  4.000000   4.971429  2016   7.250000                           35.0   \n384  4.076923   5.128205  2017   6.416667                           26.0   \n385  5.135135   4.631579  2018   8.083333                           17.0   \n386  3.763158   4.459459  2019   6.916667                           12.0   \n387  0.000000   0.000000  2020  13.416667                           17.0   \n\n     1.1.2 Diefstal/inbraak box/garage/schuur  ...  \\\n0                                        15.0  ...   \n1                                        15.0  ...   \n2                                         4.0  ...   \n3                                         7.0  ...   \n4                                         8.0  ...   \n..                                        ...  ...   \n383                                       6.0  ...   \n384                                       3.0  ...   \n385                                       5.0  ...   \n386                                       4.0  ...   \n387                                       6.0  ...   \n\n     1.2.5 Diefstal af/uit/van ov. voertuigen  1.3.1 Ongevallen (weg)  \\\n0                                         4.0                    51.0   \n1                                         0.0                    38.0   \n2                                         3.0                    63.0   \n3                                         2.0                    52.0   \n4                                        10.0                    34.0   \n..                                        ...                     ...   \n383                                       0.0                    35.0   \n384                                       1.0                    28.0   \n385                                       2.0                    37.0   \n386                                       4.0                    47.0   \n387                                       3.0                    31.0   \n\n     1.4.2 Moord, doodslag  1.4.3 Openlijk geweld (persoon)  1.4.4 Bedreiging  \\\n0                      2.0                              0.0              16.0   \n1                      0.0                              4.0              15.0   \n2                      4.0                              0.0              13.0   \n3                      0.0                              0.0              12.0   \n4                      2.0                              0.0               8.0   \n..                     ...                              ...               ...   \n383                    0.0                              0.0              11.0   \n384                    0.0                              0.0               0.0   \n385                    0.0                              0.0               7.0   \n386                    0.0                              0.0               3.0   \n387                    0.0                              0.0               5.0   \n\n     1.4.5 Mishandeling  1.4.6 Straatroof  1.4.7 Overval  \\\n0                  19.0               1.0            0.0   \n1                  21.0               0.0            0.0   \n2                   6.0               0.0            0.0   \n3                  12.0               1.0            0.0   \n4                  10.0               0.0            0.0   \n..                  ...               ...            ...   \n383                10.0               1.0            1.0   \n384                 6.0               1.0            1.0   \n385                 1.0               1.0            0.0   \n386                 7.0               1.0            2.0   \n387                 3.0               1.0            1.0   \n\n     2.2.1 Vernieling cq. zaakbeschadiging  2.4.2 Huisvredebreuk  \n0                                     50.0                   0.0  \n1                                     46.0                   0.0  \n2                                     44.0                   3.0  \n3                                     33.0                   2.0  \n4                                     19.0                   0.0  \n..                                     ...                   ...  \n383                                   36.0                   0.0  \n384                                   24.0                   1.0  \n385                                   19.0                   2.0  \n386                                   23.0                   1.0  \n387                                   21.0                   2.0  \n\n[388 rows x 24 columns]",
      "text/html": "<div>\n<style scoped>\n    .dataframe tbody tr th:only-of-type {\n        vertical-align: middle;\n    }\n\n    .dataframe tbody tr th {\n        vertical-align: top;\n    }\n\n    .dataframe thead th {\n        text-align: right;\n    }\n</style>\n<table border=\"1\" class=\"dataframe\">\n  <thead>\n    <tr style=\"text-align: right;\">\n      <th></th>\n      <th>Neighbourhood</th>\n      <th>green_score</th>\n      <th>Verhuizing</th>\n      <th>Verhuizing binnen gridcel</th>\n      <th>Vertrek</th>\n      <th>Vestiging</th>\n      <th>year</th>\n      <th>nuisance</th>\n      <th>1.1.1 Diefstal/inbraak woning</th>\n      <th>1.1.2 Diefstal/inbraak box/garage/schuur</th>\n      <th>...</th>\n      <th>1.2.5 Diefstal af/uit/van ov. voertuigen</th>\n      <th>1.3.1 Ongevallen (weg)</th>\n      <th>1.4.2 Moord, doodslag</th>\n      <th>1.4.3 Openlijk geweld (persoon)</th>\n      <th>1.4.4 Bedreiging</th>\n      <th>1.4.5 Mishandeling</th>\n      <th>1.4.6 Straatroof</th>\n      <th>1.4.7 Overval</th>\n      <th>2.2.1 Vernieling cq. zaakbeschadiging</th>\n      <th>2.4.2 Huisvredebreuk</th>\n    </tr>\n  </thead>\n  <tbody>\n    <tr>\n      <th>0</th>\n      <td>Bavel</td>\n      <td>28.123801</td>\n      <td>1.632653</td>\n      <td>0.000000</td>\n      <td>1.521739</td>\n      <td>1.625000</td>\n      <td>2014</td>\n      <td>4.541667</td>\n      <td>66.0</td>\n      <td>15.0</td>\n      <td>...</td>\n      <td>4.0</td>\n      <td>51.0</td>\n      <td>2.0</td>\n      <td>0.0</td>\n      <td>16.0</td>\n      <td>19.0</td>\n      <td>1.0</td>\n      <td>0.0</td>\n      <td>50.0</td>\n      <td>0.0</td>\n    </tr>\n    <tr>\n      <th>1</th>\n      <td>Bavel</td>\n      <td>28.123801</td>\n      <td>1.630435</td>\n      <td>1.000000</td>\n      <td>1.571429</td>\n      <td>1.529412</td>\n      <td>2015</td>\n      <td>4.833333</td>\n      <td>56.0</td>\n      <td>15.0</td>\n      <td>...</td>\n      <td>0.0</td>\n      <td>38.0</td>\n      <td>0.0</td>\n      <td>4.0</td>\n      <td>15.0</td>\n      <td>21.0</td>\n      <td>0.0</td>\n      <td>0.0</td>\n      <td>46.0</td>\n      <td>0.0</td>\n    </tr>\n    <tr>\n      <th>2</th>\n      <td>Bavel</td>\n      <td>30.643434</td>\n      <td>1.460000</td>\n      <td>0.000000</td>\n      <td>1.794118</td>\n      <td>1.361111</td>\n      <td>2016</td>\n      <td>4.458333</td>\n      <td>57.0</td>\n      <td>4.0</td>\n      <td>...</td>\n      <td>3.0</td>\n      <td>63.0</td>\n      <td>4.0</td>\n      <td>0.0</td>\n      <td>13.0</td>\n      <td>6.0</td>\n      <td>0.0</td>\n      <td>0.0</td>\n      <td>44.0</td>\n      <td>3.0</td>\n    </tr>\n    <tr>\n      <th>3</th>\n      <td>Bavel</td>\n      <td>33.500000</td>\n      <td>1.589286</td>\n      <td>1.000000</td>\n      <td>1.647059</td>\n      <td>1.904762</td>\n      <td>2017</td>\n      <td>4.041667</td>\n      <td>52.0</td>\n      <td>7.0</td>\n      <td>...</td>\n      <td>2.0</td>\n      <td>52.0</td>\n      <td>0.0</td>\n      <td>0.0</td>\n      <td>12.0</td>\n      <td>12.0</td>\n      <td>1.0</td>\n      <td>0.0</td>\n      <td>33.0</td>\n      <td>2.0</td>\n    </tr>\n    <tr>\n      <th>4</th>\n      <td>Bavel</td>\n      <td>30.423769</td>\n      <td>1.680000</td>\n      <td>2.000000</td>\n      <td>1.725490</td>\n      <td>1.733333</td>\n      <td>2018</td>\n      <td>3.416667</td>\n      <td>68.0</td>\n      <td>8.0</td>\n      <td>...</td>\n      <td>10.0</td>\n      <td>34.0</td>\n      <td>2.0</td>\n      <td>0.0</td>\n      <td>8.0</td>\n      <td>10.0</td>\n      <td>0.0</td>\n      <td>0.0</td>\n      <td>19.0</td>\n      <td>0.0</td>\n    </tr>\n    <tr>\n      <th>...</th>\n      <td>...</td>\n      <td>...</td>\n      <td>...</td>\n      <td>...</td>\n      <td>...</td>\n      <td>...</td>\n      <td>...</td>\n      <td>...</td>\n      <td>...</td>\n      <td>...</td>\n      <td>...</td>\n      <td>...</td>\n      <td>...</td>\n      <td>...</td>\n      <td>...</td>\n      <td>...</td>\n      <td>...</td>\n      <td>...</td>\n      <td>...</td>\n      <td>...</td>\n      <td>...</td>\n    </tr>\n    <tr>\n      <th>383</th>\n      <td>Zandberg</td>\n      <td>26.731392</td>\n      <td>4.833333</td>\n      <td>1.923077</td>\n      <td>4.000000</td>\n      <td>4.971429</td>\n      <td>2016</td>\n      <td>7.250000</td>\n      <td>35.0</td>\n      <td>6.0</td>\n      <td>...</td>\n      <td>0.0</td>\n      <td>35.0</td>\n      <td>0.0</td>\n      <td>0.0</td>\n      <td>11.0</td>\n      <td>10.0</td>\n      <td>1.0</td>\n      <td>1.0</td>\n      <td>36.0</td>\n      <td>0.0</td>\n    </tr>\n    <tr>\n      <th>384</th>\n      <td>Zandberg</td>\n      <td>20.985215</td>\n      <td>4.545455</td>\n      <td>2.000000</td>\n      <td>4.076923</td>\n      <td>5.128205</td>\n      <td>2017</td>\n      <td>6.416667</td>\n      <td>26.0</td>\n      <td>3.0</td>\n      <td>...</td>\n      <td>1.0</td>\n      <td>28.0</td>\n      <td>0.0</td>\n      <td>0.0</td>\n      <td>0.0</td>\n      <td>6.0</td>\n      <td>1.0</td>\n      <td>1.0</td>\n      <td>24.0</td>\n      <td>1.0</td>\n    </tr>\n    <tr>\n      <th>385</th>\n      <td>Zandberg</td>\n      <td>19.118199</td>\n      <td>4.000000</td>\n      <td>1.600000</td>\n      <td>5.135135</td>\n      <td>4.631579</td>\n      <td>2018</td>\n      <td>8.083333</td>\n      <td>17.0</td>\n      <td>5.0</td>\n      <td>...</td>\n      <td>2.0</td>\n      <td>37.0</td>\n      <td>0.0</td>\n      <td>0.0</td>\n      <td>7.0</td>\n      <td>1.0</td>\n      <td>1.0</td>\n      <td>0.0</td>\n      <td>19.0</td>\n      <td>2.0</td>\n    </tr>\n    <tr>\n      <th>386</th>\n      <td>Zandberg</td>\n      <td>18.183772</td>\n      <td>4.114286</td>\n      <td>1.250000</td>\n      <td>3.763158</td>\n      <td>4.459459</td>\n      <td>2019</td>\n      <td>6.916667</td>\n      <td>12.0</td>\n      <td>4.0</td>\n      <td>...</td>\n      <td>4.0</td>\n      <td>47.0</td>\n      <td>0.0</td>\n      <td>0.0</td>\n      <td>3.0</td>\n      <td>7.0</td>\n      <td>1.0</td>\n      <td>2.0</td>\n      <td>23.0</td>\n      <td>1.0</td>\n    </tr>\n    <tr>\n      <th>387</th>\n      <td>Zandberg</td>\n      <td>18.983877</td>\n      <td>4.558669</td>\n      <td>0.000000</td>\n      <td>0.000000</td>\n      <td>0.000000</td>\n      <td>2020</td>\n      <td>13.416667</td>\n      <td>17.0</td>\n      <td>6.0</td>\n      <td>...</td>\n      <td>3.0</td>\n      <td>31.0</td>\n      <td>0.0</td>\n      <td>0.0</td>\n      <td>5.0</td>\n      <td>3.0</td>\n      <td>1.0</td>\n      <td>1.0</td>\n      <td>21.0</td>\n      <td>2.0</td>\n    </tr>\n  </tbody>\n</table>\n<p>388 rows × 24 columns</p>\n</div>"
     },
     "execution_count": 3,
     "metadata": {},
     "output_type": "execute_result"
    }
   ],
   "source": [
    "df.head()"
   ],
   "metadata": {
    "collapsed": false
   }
  },
  {
   "cell_type": "markdown",
   "source": [
    "#### Defining a method to scale values. This is done to ensure that each value should have equal weight on the livability index calculation. The min and max scale is 1-20 inclusive by default."
   ],
   "metadata": {
    "collapsed": false
   }
  },
  {
   "cell_type": "code",
   "execution_count": 5,
   "outputs": [
    {
     "data": {
      "text/plain": "    Neighbourhood  green_score  Verhuizing  Verhuizing binnen gridcel  \\\n0           Bavel    28.123801    1.632653                   0.000000   \n1           Bavel    28.123801    1.630435                   1.000000   \n2           Bavel    30.643434    1.460000                   0.000000   \n3           Bavel    33.500000    1.589286                   1.000000   \n4           Bavel    30.423769    1.680000                   2.000000   \n..            ...          ...         ...                        ...   \n383      Zandberg    26.731392    4.833333                   1.923077   \n384      Zandberg    20.985215    4.545455                   2.000000   \n385      Zandberg    19.118199    4.000000                   1.600000   \n386      Zandberg    18.183772    4.114286                   1.250000   \n387      Zandberg    18.983877    4.558669                   0.000000   \n\n      Vertrek  Vestiging  year   nuisance  1.1.1 Diefstal/inbraak woning  \\\n0    1.521739   1.625000  2014   4.541667                           66.0   \n1    1.571429   1.529412  2015   4.833333                           56.0   \n2    1.794118   1.361111  2016   4.458333                           57.0   \n3    1.647059   1.904762  2017   4.041667                           52.0   \n4    1.725490   1.733333  2018   3.416667                           68.0   \n..        ...        ...   ...        ...                            ...   \n383  4.000000   4.971429  2016   7.250000                           35.0   \n384  4.076923   5.128205  2017   6.416667                           26.0   \n385  5.135135   4.631579  2018   8.083333                           17.0   \n386  3.763158   4.459459  2019   6.916667                           12.0   \n387  0.000000   0.000000  2020  13.416667                           17.0   \n\n     1.1.2 Diefstal/inbraak box/garage/schuur  ...  \\\n0                                        15.0  ...   \n1                                        15.0  ...   \n2                                         4.0  ...   \n3                                         7.0  ...   \n4                                         8.0  ...   \n..                                        ...  ...   \n383                                       6.0  ...   \n384                                       3.0  ...   \n385                                       5.0  ...   \n386                                       4.0  ...   \n387                                       6.0  ...   \n\n     1.2.5 Diefstal af/uit/van ov. voertuigen_scaled  \\\n0                                           1.632653   \n1                                           0.000000   \n2                                           1.224490   \n3                                           0.816327   \n4                                           4.081633   \n..                                               ...   \n383                                         0.000000   \n384                                         0.408163   \n385                                         0.816327   \n386                                         1.632653   \n387                                         1.224490   \n\n     1.3.1 Ongevallen (weg)_scaled  1.4.2 Moord, doodslag_scaled  \\\n0                        10.625000                           5.0   \n1                         7.916667                           0.0   \n2                        13.125000                          10.0   \n3                        10.833333                           0.0   \n4                         7.083333                           5.0   \n..                             ...                           ...   \n383                       7.291667                           0.0   \n384                       5.833333                           0.0   \n385                       7.708333                           0.0   \n386                       9.791667                           0.0   \n387                       6.458333                           0.0   \n\n     1.4.3 Openlijk geweld (persoon)_scaled  1.4.4 Bedreiging_scaled  \\\n0                                  0.000000                 7.804878   \n1                                  2.424242                 7.317073   \n2                                  0.000000                 6.341463   \n3                                  0.000000                 5.853659   \n4                                  0.000000                 3.902439   \n..                                      ...                      ...   \n383                                0.000000                 5.365854   \n384                                0.000000                 0.000000   \n385                                0.000000                 3.414634   \n386                                0.000000                 1.463415   \n387                                0.000000                 2.439024   \n\n     1.4.5 Mishandeling_scaled  1.4.6 Straatroof_scaled  1.4.7 Overval_scaled  \\\n0                     1.919192                 2.222222                   0.0   \n1                     2.121212                 0.000000                   0.0   \n2                     0.606061                 0.000000                   0.0   \n3                     1.212121                 2.222222                   0.0   \n4                     1.010101                 0.000000                   0.0   \n..                         ...                      ...                   ...   \n383                   1.010101                 2.222222                   4.0   \n384                   0.606061                 2.222222                   4.0   \n385                   0.101010                 2.222222                   0.0   \n386                   0.707071                 2.222222                   8.0   \n387                   0.303030                 2.222222                   4.0   \n\n     2.2.1 Vernieling cq. zaakbeschadiging_scaled  2.4.2 Huisvredebreuk_scaled  \n0                                       11.627907                     0.000000  \n1                                       10.697674                     0.000000  \n2                                       10.232558                     1.935484  \n3                                        7.674419                     1.290323  \n4                                        4.418605                     0.000000  \n..                                            ...                          ...  \n383                                      8.372093                     0.000000  \n384                                      5.581395                     0.645161  \n385                                      4.418605                     1.290323  \n386                                      5.348837                     0.645161  \n387                                      4.883721                     1.290323  \n\n[388 rows x 46 columns]",
      "text/html": "<div>\n<style scoped>\n    .dataframe tbody tr th:only-of-type {\n        vertical-align: middle;\n    }\n\n    .dataframe tbody tr th {\n        vertical-align: top;\n    }\n\n    .dataframe thead th {\n        text-align: right;\n    }\n</style>\n<table border=\"1\" class=\"dataframe\">\n  <thead>\n    <tr style=\"text-align: right;\">\n      <th></th>\n      <th>Neighbourhood</th>\n      <th>green_score</th>\n      <th>Verhuizing</th>\n      <th>Verhuizing binnen gridcel</th>\n      <th>Vertrek</th>\n      <th>Vestiging</th>\n      <th>year</th>\n      <th>nuisance</th>\n      <th>1.1.1 Diefstal/inbraak woning</th>\n      <th>1.1.2 Diefstal/inbraak box/garage/schuur</th>\n      <th>...</th>\n      <th>1.2.5 Diefstal af/uit/van ov. voertuigen_scaled</th>\n      <th>1.3.1 Ongevallen (weg)_scaled</th>\n      <th>1.4.2 Moord, doodslag_scaled</th>\n      <th>1.4.3 Openlijk geweld (persoon)_scaled</th>\n      <th>1.4.4 Bedreiging_scaled</th>\n      <th>1.4.5 Mishandeling_scaled</th>\n      <th>1.4.6 Straatroof_scaled</th>\n      <th>1.4.7 Overval_scaled</th>\n      <th>2.2.1 Vernieling cq. zaakbeschadiging_scaled</th>\n      <th>2.4.2 Huisvredebreuk_scaled</th>\n    </tr>\n  </thead>\n  <tbody>\n    <tr>\n      <th>0</th>\n      <td>Bavel</td>\n      <td>28.123801</td>\n      <td>1.632653</td>\n      <td>0.000000</td>\n      <td>1.521739</td>\n      <td>1.625000</td>\n      <td>2014</td>\n      <td>4.541667</td>\n      <td>66.0</td>\n      <td>15.0</td>\n      <td>...</td>\n      <td>1.632653</td>\n      <td>10.625000</td>\n      <td>5.0</td>\n      <td>0.000000</td>\n      <td>7.804878</td>\n      <td>1.919192</td>\n      <td>2.222222</td>\n      <td>0.0</td>\n      <td>11.627907</td>\n      <td>0.000000</td>\n    </tr>\n    <tr>\n      <th>1</th>\n      <td>Bavel</td>\n      <td>28.123801</td>\n      <td>1.630435</td>\n      <td>1.000000</td>\n      <td>1.571429</td>\n      <td>1.529412</td>\n      <td>2015</td>\n      <td>4.833333</td>\n      <td>56.0</td>\n      <td>15.0</td>\n      <td>...</td>\n      <td>0.000000</td>\n      <td>7.916667</td>\n      <td>0.0</td>\n      <td>2.424242</td>\n      <td>7.317073</td>\n      <td>2.121212</td>\n      <td>0.000000</td>\n      <td>0.0</td>\n      <td>10.697674</td>\n      <td>0.000000</td>\n    </tr>\n    <tr>\n      <th>2</th>\n      <td>Bavel</td>\n      <td>30.643434</td>\n      <td>1.460000</td>\n      <td>0.000000</td>\n      <td>1.794118</td>\n      <td>1.361111</td>\n      <td>2016</td>\n      <td>4.458333</td>\n      <td>57.0</td>\n      <td>4.0</td>\n      <td>...</td>\n      <td>1.224490</td>\n      <td>13.125000</td>\n      <td>10.0</td>\n      <td>0.000000</td>\n      <td>6.341463</td>\n      <td>0.606061</td>\n      <td>0.000000</td>\n      <td>0.0</td>\n      <td>10.232558</td>\n      <td>1.935484</td>\n    </tr>\n    <tr>\n      <th>3</th>\n      <td>Bavel</td>\n      <td>33.500000</td>\n      <td>1.589286</td>\n      <td>1.000000</td>\n      <td>1.647059</td>\n      <td>1.904762</td>\n      <td>2017</td>\n      <td>4.041667</td>\n      <td>52.0</td>\n      <td>7.0</td>\n      <td>...</td>\n      <td>0.816327</td>\n      <td>10.833333</td>\n      <td>0.0</td>\n      <td>0.000000</td>\n      <td>5.853659</td>\n      <td>1.212121</td>\n      <td>2.222222</td>\n      <td>0.0</td>\n      <td>7.674419</td>\n      <td>1.290323</td>\n    </tr>\n    <tr>\n      <th>4</th>\n      <td>Bavel</td>\n      <td>30.423769</td>\n      <td>1.680000</td>\n      <td>2.000000</td>\n      <td>1.725490</td>\n      <td>1.733333</td>\n      <td>2018</td>\n      <td>3.416667</td>\n      <td>68.0</td>\n      <td>8.0</td>\n      <td>...</td>\n      <td>4.081633</td>\n      <td>7.083333</td>\n      <td>5.0</td>\n      <td>0.000000</td>\n      <td>3.902439</td>\n      <td>1.010101</td>\n      <td>0.000000</td>\n      <td>0.0</td>\n      <td>4.418605</td>\n      <td>0.000000</td>\n    </tr>\n    <tr>\n      <th>...</th>\n      <td>...</td>\n      <td>...</td>\n      <td>...</td>\n      <td>...</td>\n      <td>...</td>\n      <td>...</td>\n      <td>...</td>\n      <td>...</td>\n      <td>...</td>\n      <td>...</td>\n      <td>...</td>\n      <td>...</td>\n      <td>...</td>\n      <td>...</td>\n      <td>...</td>\n      <td>...</td>\n      <td>...</td>\n      <td>...</td>\n      <td>...</td>\n      <td>...</td>\n      <td>...</td>\n    </tr>\n    <tr>\n      <th>383</th>\n      <td>Zandberg</td>\n      <td>26.731392</td>\n      <td>4.833333</td>\n      <td>1.923077</td>\n      <td>4.000000</td>\n      <td>4.971429</td>\n      <td>2016</td>\n      <td>7.250000</td>\n      <td>35.0</td>\n      <td>6.0</td>\n      <td>...</td>\n      <td>0.000000</td>\n      <td>7.291667</td>\n      <td>0.0</td>\n      <td>0.000000</td>\n      <td>5.365854</td>\n      <td>1.010101</td>\n      <td>2.222222</td>\n      <td>4.0</td>\n      <td>8.372093</td>\n      <td>0.000000</td>\n    </tr>\n    <tr>\n      <th>384</th>\n      <td>Zandberg</td>\n      <td>20.985215</td>\n      <td>4.545455</td>\n      <td>2.000000</td>\n      <td>4.076923</td>\n      <td>5.128205</td>\n      <td>2017</td>\n      <td>6.416667</td>\n      <td>26.0</td>\n      <td>3.0</td>\n      <td>...</td>\n      <td>0.408163</td>\n      <td>5.833333</td>\n      <td>0.0</td>\n      <td>0.000000</td>\n      <td>0.000000</td>\n      <td>0.606061</td>\n      <td>2.222222</td>\n      <td>4.0</td>\n      <td>5.581395</td>\n      <td>0.645161</td>\n    </tr>\n    <tr>\n      <th>385</th>\n      <td>Zandberg</td>\n      <td>19.118199</td>\n      <td>4.000000</td>\n      <td>1.600000</td>\n      <td>5.135135</td>\n      <td>4.631579</td>\n      <td>2018</td>\n      <td>8.083333</td>\n      <td>17.0</td>\n      <td>5.0</td>\n      <td>...</td>\n      <td>0.816327</td>\n      <td>7.708333</td>\n      <td>0.0</td>\n      <td>0.000000</td>\n      <td>3.414634</td>\n      <td>0.101010</td>\n      <td>2.222222</td>\n      <td>0.0</td>\n      <td>4.418605</td>\n      <td>1.290323</td>\n    </tr>\n    <tr>\n      <th>386</th>\n      <td>Zandberg</td>\n      <td>18.183772</td>\n      <td>4.114286</td>\n      <td>1.250000</td>\n      <td>3.763158</td>\n      <td>4.459459</td>\n      <td>2019</td>\n      <td>6.916667</td>\n      <td>12.0</td>\n      <td>4.0</td>\n      <td>...</td>\n      <td>1.632653</td>\n      <td>9.791667</td>\n      <td>0.0</td>\n      <td>0.000000</td>\n      <td>1.463415</td>\n      <td>0.707071</td>\n      <td>2.222222</td>\n      <td>8.0</td>\n      <td>5.348837</td>\n      <td>0.645161</td>\n    </tr>\n    <tr>\n      <th>387</th>\n      <td>Zandberg</td>\n      <td>18.983877</td>\n      <td>4.558669</td>\n      <td>0.000000</td>\n      <td>0.000000</td>\n      <td>0.000000</td>\n      <td>2020</td>\n      <td>13.416667</td>\n      <td>17.0</td>\n      <td>6.0</td>\n      <td>...</td>\n      <td>1.224490</td>\n      <td>6.458333</td>\n      <td>0.0</td>\n      <td>0.000000</td>\n      <td>2.439024</td>\n      <td>0.303030</td>\n      <td>2.222222</td>\n      <td>4.0</td>\n      <td>4.883721</td>\n      <td>1.290323</td>\n    </tr>\n  </tbody>\n</table>\n<p>388 rows × 46 columns</p>\n</div>"
     },
     "execution_count": 5,
     "metadata": {},
     "output_type": "execute_result"
    }
   ],
   "source": [
    "min_scale, max_scale = 1, 21\n",
    "\n",
    "\n",
    "def scale_values(c_df, column, min_scaled, max_scaled):\n",
    "    min_value = min(c_df[column].values)\n",
    "    max_value = max(c_df[column].values)\n",
    "    temp = c_df.copy()\n",
    "    temp[f'{column}_scaled'] = ((temp[column] - min_value) / (max_value - min_value)) * (\n",
    "            max_scaled - min_scaled)\n",
    "    return temp\n",
    "\n",
    "\n",
    "for idx, column_type in enumerate(df.dtypes):\n",
    "    if column_type == float:\n",
    "        df = scale_values(df, df.columns[idx], min_scale, max_scale)\n",
    "df"
   ],
   "metadata": {
    "collapsed": false
   }
  },
  {
   "cell_type": "markdown",
   "source": [
    "#### Calculating the livability index as a percentage by dividing the sum of the scaled good values by the sum of the scaled good and bad values multiplied by 100. sum_all = (sum_good)+(sum_bad) | ((sum_good)/(sum_all))*100"
   ],
   "metadata": {
    "collapsed": false
   }
  },
  {
   "cell_type": "code",
   "execution_count": 14,
   "outputs": [],
   "source": [
    "def calculate_index_based_on_good_bad_cols(df, good_columns, bad_columns):\n",
    "    data = {'Neighbourhood': [], 'year': [], 'sum_debug': [], 'livability_score': [],\n",
    "            'good_sum_debug': [], 'bad_sum_debug': []}\n",
    "    for nidx, el in enumerate(df['Neighbourhood'].unique()):\n",
    "        years = df.loc[df['Neighbourhood'] == el, 'year']\n",
    "\n",
    "        for idx, year in enumerate(years):\n",
    "            data['Neighbourhood'].append(el)\n",
    "            data['year'].append(year)\n",
    "            good_value = 0\n",
    "            for e in good_columns:\n",
    "                e = e[:-7]\n",
    "                value = df.loc[\n",
    "                    (df['Neighbourhood'] == el) & (df['year'] == year), e].values.squeeze()\n",
    "                good_value += value\n",
    "                if e not in data:\n",
    "                    data[e] = []\n",
    "                data[e].append(value)\n",
    "            bad_value = 0\n",
    "            for e in bad_columns:\n",
    "                e = e[:-7]\n",
    "                value = df.loc[\n",
    "                    (df['Neighbourhood'] == el) & (df['year'] == year), e].values.squeeze()\n",
    "                bad_value += value\n",
    "                if e not in data:\n",
    "                    data[e] = []\n",
    "                data[e].append(value)\n",
    "\n",
    "            good_value = good_value / len(good_columns)\n",
    "            bad_value = bad_value / len(bad_columns)\n",
    "            sum_all = good_value + bad_value\n",
    "            data['sum_debug'].append(sum_all)\n",
    "            score = (good_value / sum_all) * 100\n",
    "            data['livability_score'].append(score)\n",
    "\n",
    "            data['good_sum_debug'].append(good_value)\n",
    "            data['bad_sum_debug'].append(bad_value)\n",
    "    return pd.DataFrame(data)"
   ],
   "metadata": {
    "collapsed": false
   }
  },
  {
   "cell_type": "markdown",
   "source": [
    "#### This function is used to extract the name of the bad columns based on the good columns."
   ],
   "metadata": {
    "collapsed": false
   }
  },
  {
   "cell_type": "code",
   "execution_count": 15,
   "outputs": [],
   "source": [
    "def split_columns(df_columns, good_columns):\n",
    "    suffix = 'scaled'\n",
    "    good_cols = []\n",
    "    bad_cols = []\n",
    "    for el in df_columns:\n",
    "        transformed_column = '{0}_{1}'.format(el, suffix)\n",
    "        if el in good_columns:\n",
    "            good_cols.append(transformed_column)\n",
    "        else:\n",
    "            bad_cols.append(transformed_column)\n",
    "\n",
    "    return good_cols, bad_cols"
   ],
   "metadata": {
    "collapsed": false
   }
  },
  {
   "cell_type": "markdown",
   "source": [
    "#### Calling the defined above functions and saving the result to a pd.DataFrame result object."
   ],
   "metadata": {
    "collapsed": false
   }
  },
  {
   "cell_type": "code",
   "execution_count": 16,
   "outputs": [],
   "source": [
    "scaled_columns = df.columns[np.where(df.dtypes == float)]\n",
    "good_cols, bad_cols = split_columns(scaled_columns[np.where(~scaled_columns.str.endswith('scaled'))],\n",
    "                                    ['green_score', 'Vestiging', 'Verhuizing binnen gridcel', 'Verhuizing'])\n",
    "\n",
    "result = calculate_index_based_on_good_bad_cols(df, good_cols,\n",
    "                                                bad_cols)"
   ],
   "metadata": {
    "collapsed": false
   }
  },
  {
   "cell_type": "markdown",
   "source": [
    "#### Visualising a _debug view of the result after the custom livability index calculation."
   ],
   "metadata": {
    "collapsed": false
   }
  },
  {
   "cell_type": "code",
   "execution_count": 17,
   "outputs": [
    {
     "data": {
      "text/plain": "    Neighbourhood  year  sum_debug  livability_score  good_sum_debug  \\\n0           Bavel  2014  27.571108         28.455017        7.845363   \n1           Bavel  2015  26.537843         30.412840        8.070912   \n2           Bavel  2016  25.602384         32.677178        8.366136   \n3           Bavel  2017  23.203441         40.935790        9.498512   \n4           Bavel  2018  20.411618         43.893021        8.959276   \n..            ...   ...        ...               ...             ...   \n383      Zandberg  2016  24.462030         39.305028        9.614808   \n384      Zandberg  2017  19.358807         42.175733        8.164719   \n385      Zandberg  2018  17.182915         42.701977        7.337444   \n386      Zandberg  2019  18.539647         37.767058        7.001879   \n387      Zandberg  2020  15.797674         37.256350        5.885637   \n\n     bad_sum_debug         green_score          Verhuizing  \\\n0        19.725745  28.123800505050504  1.6326530612244898   \n1        18.466931  28.123800505050504  1.6304347826086956   \n2        17.236247  30.643434343434343                1.46   \n3        13.704929                33.5  1.5892857142857142   \n4        11.452342  30.423768939393938                1.68   \n..             ...                 ...                 ...   \n383      14.847222   26.73139158576052   4.833333333333333   \n384      11.194088   20.98521505376344   4.545454545454546   \n385       9.845470   19.11819887429644                 4.0   \n386      11.537768   18.18377233722316   4.114285714285714   \n387       9.912037   18.98387749208733   4.558668909086652   \n\n    Verhuizing binnen gridcel           Vestiging  ...  \\\n0                         0.0               1.625  ...   \n1                         1.0  1.5294117647058822  ...   \n2                         0.0  1.3611111111111112  ...   \n3                         1.0  1.9047619047619049  ...   \n4                         2.0  1.7333333333333334  ...   \n..                        ...                 ...  ...   \n383        1.9230769230769231   4.971428571428572  ...   \n384                       2.0   5.128205128205129  ...   \n385                       1.6   4.631578947368421  ...   \n386                      1.25    4.45945945945946  ...   \n387                       0.0                 0.0  ...   \n\n    1.2.5 Diefstal af/uit/van ov. voertuigen 1.3.1 Ongevallen (weg)  \\\n0                                        4.0                   51.0   \n1                                        0.0                   38.0   \n2                                        3.0                   63.0   \n3                                        2.0                   52.0   \n4                                       10.0                   34.0   \n..                                       ...                    ...   \n383                                      0.0                   35.0   \n384                                      1.0                   28.0   \n385                                      2.0                   37.0   \n386                                      4.0                   47.0   \n387                                      3.0                   31.0   \n\n    1.4.2 Moord, doodslag 1.4.3 Openlijk geweld (persoon) 1.4.4 Bedreiging  \\\n0                     2.0                             0.0             16.0   \n1                     0.0                             4.0             15.0   \n2                     4.0                             0.0             13.0   \n3                     0.0                             0.0             12.0   \n4                     2.0                             0.0              8.0   \n..                    ...                             ...              ...   \n383                   0.0                             0.0             11.0   \n384                   0.0                             0.0              0.0   \n385                   0.0                             0.0              7.0   \n386                   0.0                             0.0              3.0   \n387                   0.0                             0.0              5.0   \n\n    1.4.5 Mishandeling 1.4.6 Straatroof 1.4.7 Overval  \\\n0                 19.0              1.0           0.0   \n1                 21.0              0.0           0.0   \n2                  6.0              0.0           0.0   \n3                 12.0              1.0           0.0   \n4                 10.0              0.0           0.0   \n..                 ...              ...           ...   \n383               10.0              1.0           1.0   \n384                6.0              1.0           1.0   \n385                1.0              1.0           0.0   \n386                7.0              1.0           2.0   \n387                3.0              1.0           1.0   \n\n    2.2.1 Vernieling cq. zaakbeschadiging 2.4.2 Huisvredebreuk  \n0                                    50.0                  0.0  \n1                                    46.0                  0.0  \n2                                    44.0                  3.0  \n3                                    33.0                  2.0  \n4                                    19.0                  0.0  \n..                                    ...                  ...  \n383                                  36.0                  0.0  \n384                                  24.0                  1.0  \n385                                  19.0                  2.0  \n386                                  23.0                  1.0  \n387                                  21.0                  2.0  \n\n[388 rows x 28 columns]",
      "text/html": "<div>\n<style scoped>\n    .dataframe tbody tr th:only-of-type {\n        vertical-align: middle;\n    }\n\n    .dataframe tbody tr th {\n        vertical-align: top;\n    }\n\n    .dataframe thead th {\n        text-align: right;\n    }\n</style>\n<table border=\"1\" class=\"dataframe\">\n  <thead>\n    <tr style=\"text-align: right;\">\n      <th></th>\n      <th>Neighbourhood</th>\n      <th>year</th>\n      <th>sum_debug</th>\n      <th>livability_score</th>\n      <th>good_sum_debug</th>\n      <th>bad_sum_debug</th>\n      <th>green_score</th>\n      <th>Verhuizing</th>\n      <th>Verhuizing binnen gridcel</th>\n      <th>Vestiging</th>\n      <th>...</th>\n      <th>1.2.5 Diefstal af/uit/van ov. voertuigen</th>\n      <th>1.3.1 Ongevallen (weg)</th>\n      <th>1.4.2 Moord, doodslag</th>\n      <th>1.4.3 Openlijk geweld (persoon)</th>\n      <th>1.4.4 Bedreiging</th>\n      <th>1.4.5 Mishandeling</th>\n      <th>1.4.6 Straatroof</th>\n      <th>1.4.7 Overval</th>\n      <th>2.2.1 Vernieling cq. zaakbeschadiging</th>\n      <th>2.4.2 Huisvredebreuk</th>\n    </tr>\n  </thead>\n  <tbody>\n    <tr>\n      <th>0</th>\n      <td>Bavel</td>\n      <td>2014</td>\n      <td>27.571108</td>\n      <td>28.455017</td>\n      <td>7.845363</td>\n      <td>19.725745</td>\n      <td>28.123800505050504</td>\n      <td>1.6326530612244898</td>\n      <td>0.0</td>\n      <td>1.625</td>\n      <td>...</td>\n      <td>4.0</td>\n      <td>51.0</td>\n      <td>2.0</td>\n      <td>0.0</td>\n      <td>16.0</td>\n      <td>19.0</td>\n      <td>1.0</td>\n      <td>0.0</td>\n      <td>50.0</td>\n      <td>0.0</td>\n    </tr>\n    <tr>\n      <th>1</th>\n      <td>Bavel</td>\n      <td>2015</td>\n      <td>26.537843</td>\n      <td>30.412840</td>\n      <td>8.070912</td>\n      <td>18.466931</td>\n      <td>28.123800505050504</td>\n      <td>1.6304347826086956</td>\n      <td>1.0</td>\n      <td>1.5294117647058822</td>\n      <td>...</td>\n      <td>0.0</td>\n      <td>38.0</td>\n      <td>0.0</td>\n      <td>4.0</td>\n      <td>15.0</td>\n      <td>21.0</td>\n      <td>0.0</td>\n      <td>0.0</td>\n      <td>46.0</td>\n      <td>0.0</td>\n    </tr>\n    <tr>\n      <th>2</th>\n      <td>Bavel</td>\n      <td>2016</td>\n      <td>25.602384</td>\n      <td>32.677178</td>\n      <td>8.366136</td>\n      <td>17.236247</td>\n      <td>30.643434343434343</td>\n      <td>1.46</td>\n      <td>0.0</td>\n      <td>1.3611111111111112</td>\n      <td>...</td>\n      <td>3.0</td>\n      <td>63.0</td>\n      <td>4.0</td>\n      <td>0.0</td>\n      <td>13.0</td>\n      <td>6.0</td>\n      <td>0.0</td>\n      <td>0.0</td>\n      <td>44.0</td>\n      <td>3.0</td>\n    </tr>\n    <tr>\n      <th>3</th>\n      <td>Bavel</td>\n      <td>2017</td>\n      <td>23.203441</td>\n      <td>40.935790</td>\n      <td>9.498512</td>\n      <td>13.704929</td>\n      <td>33.5</td>\n      <td>1.5892857142857142</td>\n      <td>1.0</td>\n      <td>1.9047619047619049</td>\n      <td>...</td>\n      <td>2.0</td>\n      <td>52.0</td>\n      <td>0.0</td>\n      <td>0.0</td>\n      <td>12.0</td>\n      <td>12.0</td>\n      <td>1.0</td>\n      <td>0.0</td>\n      <td>33.0</td>\n      <td>2.0</td>\n    </tr>\n    <tr>\n      <th>4</th>\n      <td>Bavel</td>\n      <td>2018</td>\n      <td>20.411618</td>\n      <td>43.893021</td>\n      <td>8.959276</td>\n      <td>11.452342</td>\n      <td>30.423768939393938</td>\n      <td>1.68</td>\n      <td>2.0</td>\n      <td>1.7333333333333334</td>\n      <td>...</td>\n      <td>10.0</td>\n      <td>34.0</td>\n      <td>2.0</td>\n      <td>0.0</td>\n      <td>8.0</td>\n      <td>10.0</td>\n      <td>0.0</td>\n      <td>0.0</td>\n      <td>19.0</td>\n      <td>0.0</td>\n    </tr>\n    <tr>\n      <th>...</th>\n      <td>...</td>\n      <td>...</td>\n      <td>...</td>\n      <td>...</td>\n      <td>...</td>\n      <td>...</td>\n      <td>...</td>\n      <td>...</td>\n      <td>...</td>\n      <td>...</td>\n      <td>...</td>\n      <td>...</td>\n      <td>...</td>\n      <td>...</td>\n      <td>...</td>\n      <td>...</td>\n      <td>...</td>\n      <td>...</td>\n      <td>...</td>\n      <td>...</td>\n      <td>...</td>\n    </tr>\n    <tr>\n      <th>383</th>\n      <td>Zandberg</td>\n      <td>2016</td>\n      <td>24.462030</td>\n      <td>39.305028</td>\n      <td>9.614808</td>\n      <td>14.847222</td>\n      <td>26.73139158576052</td>\n      <td>4.833333333333333</td>\n      <td>1.9230769230769231</td>\n      <td>4.971428571428572</td>\n      <td>...</td>\n      <td>0.0</td>\n      <td>35.0</td>\n      <td>0.0</td>\n      <td>0.0</td>\n      <td>11.0</td>\n      <td>10.0</td>\n      <td>1.0</td>\n      <td>1.0</td>\n      <td>36.0</td>\n      <td>0.0</td>\n    </tr>\n    <tr>\n      <th>384</th>\n      <td>Zandberg</td>\n      <td>2017</td>\n      <td>19.358807</td>\n      <td>42.175733</td>\n      <td>8.164719</td>\n      <td>11.194088</td>\n      <td>20.98521505376344</td>\n      <td>4.545454545454546</td>\n      <td>2.0</td>\n      <td>5.128205128205129</td>\n      <td>...</td>\n      <td>1.0</td>\n      <td>28.0</td>\n      <td>0.0</td>\n      <td>0.0</td>\n      <td>0.0</td>\n      <td>6.0</td>\n      <td>1.0</td>\n      <td>1.0</td>\n      <td>24.0</td>\n      <td>1.0</td>\n    </tr>\n    <tr>\n      <th>385</th>\n      <td>Zandberg</td>\n      <td>2018</td>\n      <td>17.182915</td>\n      <td>42.701977</td>\n      <td>7.337444</td>\n      <td>9.845470</td>\n      <td>19.11819887429644</td>\n      <td>4.0</td>\n      <td>1.6</td>\n      <td>4.631578947368421</td>\n      <td>...</td>\n      <td>2.0</td>\n      <td>37.0</td>\n      <td>0.0</td>\n      <td>0.0</td>\n      <td>7.0</td>\n      <td>1.0</td>\n      <td>1.0</td>\n      <td>0.0</td>\n      <td>19.0</td>\n      <td>2.0</td>\n    </tr>\n    <tr>\n      <th>386</th>\n      <td>Zandberg</td>\n      <td>2019</td>\n      <td>18.539647</td>\n      <td>37.767058</td>\n      <td>7.001879</td>\n      <td>11.537768</td>\n      <td>18.18377233722316</td>\n      <td>4.114285714285714</td>\n      <td>1.25</td>\n      <td>4.45945945945946</td>\n      <td>...</td>\n      <td>4.0</td>\n      <td>47.0</td>\n      <td>0.0</td>\n      <td>0.0</td>\n      <td>3.0</td>\n      <td>7.0</td>\n      <td>1.0</td>\n      <td>2.0</td>\n      <td>23.0</td>\n      <td>1.0</td>\n    </tr>\n    <tr>\n      <th>387</th>\n      <td>Zandberg</td>\n      <td>2020</td>\n      <td>15.797674</td>\n      <td>37.256350</td>\n      <td>5.885637</td>\n      <td>9.912037</td>\n      <td>18.98387749208733</td>\n      <td>4.558668909086652</td>\n      <td>0.0</td>\n      <td>0.0</td>\n      <td>...</td>\n      <td>3.0</td>\n      <td>31.0</td>\n      <td>0.0</td>\n      <td>0.0</td>\n      <td>5.0</td>\n      <td>3.0</td>\n      <td>1.0</td>\n      <td>1.0</td>\n      <td>21.0</td>\n      <td>2.0</td>\n    </tr>\n  </tbody>\n</table>\n<p>388 rows × 28 columns</p>\n</div>"
     },
     "execution_count": 17,
     "metadata": {},
     "output_type": "execute_result"
    }
   ],
   "source": [
    "result"
   ],
   "metadata": {
    "collapsed": false
   }
  },
  {
   "cell_type": "markdown",
   "source": [
    "#### Saving the clean result to a .csv file by removing the _debug columns before that."
   ],
   "metadata": {
    "collapsed": false
   }
  },
  {
   "cell_type": "code",
   "execution_count": 144,
   "outputs": [],
   "source": [
    "result_columns = result.columns\n",
    "\n",
    "result[result_columns[np.where(~result_columns.str.endswith('_debug'))]].to_csv(\n",
    "    '../../../data/final/final.csv',\n",
    "    index=False)"
   ],
   "metadata": {
    "collapsed": false
   }
  },
  {
   "cell_type": "code",
   "execution_count": null,
   "outputs": [],
   "source": [],
   "metadata": {
    "collapsed": false
   }
  }
 ],
 "metadata": {
  "kernelspec": {
   "display_name": "Python 3",
   "language": "python",
   "name": "python3"
  },
  "language_info": {
   "codemirror_mode": {
    "name": "ipython",
    "version": 2
   },
   "file_extension": ".py",
   "mimetype": "text/x-python",
   "name": "python",
   "nbconvert_exporter": "python",
   "pygments_lexer": "ipython2",
   "version": "2.7.6"
  }
 },
 "nbformat": 4,
 "nbformat_minor": 0
}
