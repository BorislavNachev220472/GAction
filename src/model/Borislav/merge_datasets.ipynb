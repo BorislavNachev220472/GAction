{
 "cells": [
  {
   "cell_type": "markdown",
   "source": [
    "# Notebook explaining how the individual datasets were merged on Neighbourhood and Year."
   ],
   "metadata": {
    "collapsed": false
   }
  },
  {
   "cell_type": "code",
   "execution_count": 1,
   "outputs": [],
   "source": [
    "import pandas as pd"
   ],
   "metadata": {
    "collapsed": false,
    "ExecuteTime": {
     "start_time": "2023-06-01T22:16:50.992409Z",
     "end_time": "2023-06-01T22:16:51.006888Z"
    }
   }
  },
  {
   "cell_type": "markdown",
   "source": [
    "#### Reading each individual preprocessed dataset from the preprocessed directory"
   ],
   "metadata": {
    "collapsed": false
   }
  },
  {
   "cell_type": "code",
   "execution_count": 2,
   "outputs": [],
   "source": [
    "green_index = pd.read_csv('../../../data/preprocessed/green_index_dataset.csv')\n",
    "public_nuisance = pd.read_csv('../../../data/preprocessed/public_nuisance.csv')\n",
    "move_houses = pd.read_csv('../../../data/preprocessed/move_houses_preprocessed.csv')\n",
    "crimes = pd.read_csv('../../../data/preprocessed/recorded_crimes.csv')"
   ],
   "metadata": {
    "collapsed": false,
    "ExecuteTime": {
     "start_time": "2023-06-01T22:16:51.309577Z",
     "end_time": "2023-06-01T22:16:51.321442Z"
    }
   }
  },
  {
   "cell_type": "markdown",
   "source": [
    "#### The datasets were merged based on the `Neighbourhood` column. `WijkenEnBuurten` means `Neighbourhood` in Dutch."
   ],
   "metadata": {
    "collapsed": false
   }
  },
  {
   "cell_type": "code",
   "execution_count": 3,
   "outputs": [],
   "source": [
    "merged = green_index.merge(move_houses, left_on='Neighbourhood', right_on='Neighbourhood').merge(public_nuisance,\n",
    "                                                                                                 left_on='Neighbourhood',\n",
    "                                                                                                 right_on='Neighbourhood').merge(\n",
    "    crimes,\n",
    "    left_on='Neighbourhood',\n",
    "    right_on='WijkenEnBuurten')"
   ],
   "metadata": {
    "collapsed": false,
    "ExecuteTime": {
     "start_time": "2023-06-01T22:16:51.655253Z",
     "end_time": "2023-06-01T22:16:51.666483Z"
    }
   }
  },
  {
   "cell_type": "markdown",
   "source": [
    "##### Filtering the duplicates generated from the merging by comparing the years from each dataset so that we can leave the data for each distinct neighbourhood and year."
   ],
   "metadata": {
    "collapsed": false
   }
  },
  {
   "cell_type": "code",
   "execution_count": 4,
   "outputs": [],
   "source": [
    "merged = merged.loc[(merged['year'] == merged['year_y']) & (merged['year_x'] == merged['year_y'])\n",
    "                    & ((merged['Perioden'] == merged['year_y']))].drop(\n",
    "    ['year_y', 'year_x', 'WijkenEnBuurten', 'Perioden'],\n",
    "    axis=1)"
   ],
   "metadata": {
    "collapsed": false,
    "ExecuteTime": {
     "start_time": "2023-06-01T22:16:51.902992Z",
     "end_time": "2023-06-01T22:16:51.921102Z"
    }
   }
  },
  {
   "cell_type": "markdown",
   "source": [
    "#### Viewing the result before saving."
   ],
   "metadata": {
    "collapsed": false
   }
  },
  {
   "cell_type": "code",
   "execution_count": 5,
   "outputs": [
    {
     "data": {
      "text/plain": "       Neighbourhood  green_score  Verhuizing  Verhuizing binnen gridcel  \\\n0              Bavel    28.123801    1.632653                   0.000000   \n400            Bavel    28.123801    1.630435                   1.000000   \n800            Bavel    30.643434    1.460000                   0.000000   \n1200           Bavel    33.500000    1.589286                   1.000000   \n1600           Bavel    30.423769    1.680000                   2.000000   \n...              ...          ...         ...                        ...   \n131483      Zandberg    26.731392    4.833333                   1.923077   \n131883      Zandberg    20.985215    4.545455                   2.000000   \n132283      Zandberg    19.118199    4.000000                   1.600000   \n132683      Zandberg    18.183772    4.114286                   1.250000   \n133083      Zandberg    18.983877    4.558669                   0.000000   \n\n         Vertrek  Vestiging  year   nuisance  1.1.1 Diefstal/inbraak woning  \\\n0       1.521739   1.625000  2014   4.541667                           66.0   \n400     1.571429   1.529412  2015   4.833333                           56.0   \n800     1.794118   1.361111  2016   4.458333                           57.0   \n1200    1.647059   1.904762  2017   4.041667                           52.0   \n1600    1.725490   1.733333  2018   3.416667                           68.0   \n...          ...        ...   ...        ...                            ...   \n131483  4.000000   4.971429  2016   7.250000                           35.0   \n131883  4.076923   5.128205  2017   6.416667                           26.0   \n132283  5.135135   4.631579  2018   8.083333                           17.0   \n132683  3.763158   4.459459  2019   6.916667                           12.0   \n133083  0.000000   0.000000  2020  13.416667                           17.0   \n\n        1.1.2 Diefstal/inbraak box/garage/schuur  ...  \\\n0                                           15.0  ...   \n400                                         15.0  ...   \n800                                          4.0  ...   \n1200                                         7.0  ...   \n1600                                         8.0  ...   \n...                                          ...  ...   \n131483                                       6.0  ...   \n131883                                       3.0  ...   \n132283                                       5.0  ...   \n132683                                       4.0  ...   \n133083                                       6.0  ...   \n\n        1.2.5 Diefstal af/uit/van ov. voertuigen  1.3.1 Ongevallen (weg)  \\\n0                                            4.0                    51.0   \n400                                          0.0                    38.0   \n800                                          3.0                    63.0   \n1200                                         2.0                    52.0   \n1600                                        10.0                    34.0   \n...                                          ...                     ...   \n131483                                       0.0                    35.0   \n131883                                       1.0                    28.0   \n132283                                       2.0                    37.0   \n132683                                       4.0                    47.0   \n133083                                       3.0                    31.0   \n\n        1.4.2 Moord, doodslag  1.4.3 Openlijk geweld (persoon)  \\\n0                         2.0                              0.0   \n400                       0.0                              4.0   \n800                       4.0                              0.0   \n1200                      0.0                              0.0   \n1600                      2.0                              0.0   \n...                       ...                              ...   \n131483                    0.0                              0.0   \n131883                    0.0                              0.0   \n132283                    0.0                              0.0   \n132683                    0.0                              0.0   \n133083                    0.0                              0.0   \n\n        1.4.4 Bedreiging  1.4.5 Mishandeling  1.4.6 Straatroof  1.4.7 Overval  \\\n0                   16.0                19.0               1.0            0.0   \n400                 15.0                21.0               0.0            0.0   \n800                 13.0                 6.0               0.0            0.0   \n1200                12.0                12.0               1.0            0.0   \n1600                 8.0                10.0               0.0            0.0   \n...                  ...                 ...               ...            ...   \n131483              11.0                10.0               1.0            1.0   \n131883               0.0                 6.0               1.0            1.0   \n132283               7.0                 1.0               1.0            0.0   \n132683               3.0                 7.0               1.0            2.0   \n133083               5.0                 3.0               1.0            1.0   \n\n        2.2.1 Vernieling cq. zaakbeschadiging  2.4.2 Huisvredebreuk  \n0                                        50.0                   0.0  \n400                                      46.0                   0.0  \n800                                      44.0                   3.0  \n1200                                     33.0                   2.0  \n1600                                     19.0                   0.0  \n...                                       ...                   ...  \n131483                                   36.0                   0.0  \n131883                                   24.0                   1.0  \n132283                                   19.0                   2.0  \n132683                                   23.0                   1.0  \n133083                                   21.0                   2.0  \n\n[388 rows x 24 columns]",
      "text/html": "<div>\n<style scoped>\n    .dataframe tbody tr th:only-of-type {\n        vertical-align: middle;\n    }\n\n    .dataframe tbody tr th {\n        vertical-align: top;\n    }\n\n    .dataframe thead th {\n        text-align: right;\n    }\n</style>\n<table border=\"1\" class=\"dataframe\">\n  <thead>\n    <tr style=\"text-align: right;\">\n      <th></th>\n      <th>Neighbourhood</th>\n      <th>green_score</th>\n      <th>Verhuizing</th>\n      <th>Verhuizing binnen gridcel</th>\n      <th>Vertrek</th>\n      <th>Vestiging</th>\n      <th>year</th>\n      <th>nuisance</th>\n      <th>1.1.1 Diefstal/inbraak woning</th>\n      <th>1.1.2 Diefstal/inbraak box/garage/schuur</th>\n      <th>...</th>\n      <th>1.2.5 Diefstal af/uit/van ov. voertuigen</th>\n      <th>1.3.1 Ongevallen (weg)</th>\n      <th>1.4.2 Moord, doodslag</th>\n      <th>1.4.3 Openlijk geweld (persoon)</th>\n      <th>1.4.4 Bedreiging</th>\n      <th>1.4.5 Mishandeling</th>\n      <th>1.4.6 Straatroof</th>\n      <th>1.4.7 Overval</th>\n      <th>2.2.1 Vernieling cq. zaakbeschadiging</th>\n      <th>2.4.2 Huisvredebreuk</th>\n    </tr>\n  </thead>\n  <tbody>\n    <tr>\n      <th>0</th>\n      <td>Bavel</td>\n      <td>28.123801</td>\n      <td>1.632653</td>\n      <td>0.000000</td>\n      <td>1.521739</td>\n      <td>1.625000</td>\n      <td>2014</td>\n      <td>4.541667</td>\n      <td>66.0</td>\n      <td>15.0</td>\n      <td>...</td>\n      <td>4.0</td>\n      <td>51.0</td>\n      <td>2.0</td>\n      <td>0.0</td>\n      <td>16.0</td>\n      <td>19.0</td>\n      <td>1.0</td>\n      <td>0.0</td>\n      <td>50.0</td>\n      <td>0.0</td>\n    </tr>\n    <tr>\n      <th>400</th>\n      <td>Bavel</td>\n      <td>28.123801</td>\n      <td>1.630435</td>\n      <td>1.000000</td>\n      <td>1.571429</td>\n      <td>1.529412</td>\n      <td>2015</td>\n      <td>4.833333</td>\n      <td>56.0</td>\n      <td>15.0</td>\n      <td>...</td>\n      <td>0.0</td>\n      <td>38.0</td>\n      <td>0.0</td>\n      <td>4.0</td>\n      <td>15.0</td>\n      <td>21.0</td>\n      <td>0.0</td>\n      <td>0.0</td>\n      <td>46.0</td>\n      <td>0.0</td>\n    </tr>\n    <tr>\n      <th>800</th>\n      <td>Bavel</td>\n      <td>30.643434</td>\n      <td>1.460000</td>\n      <td>0.000000</td>\n      <td>1.794118</td>\n      <td>1.361111</td>\n      <td>2016</td>\n      <td>4.458333</td>\n      <td>57.0</td>\n      <td>4.0</td>\n      <td>...</td>\n      <td>3.0</td>\n      <td>63.0</td>\n      <td>4.0</td>\n      <td>0.0</td>\n      <td>13.0</td>\n      <td>6.0</td>\n      <td>0.0</td>\n      <td>0.0</td>\n      <td>44.0</td>\n      <td>3.0</td>\n    </tr>\n    <tr>\n      <th>1200</th>\n      <td>Bavel</td>\n      <td>33.500000</td>\n      <td>1.589286</td>\n      <td>1.000000</td>\n      <td>1.647059</td>\n      <td>1.904762</td>\n      <td>2017</td>\n      <td>4.041667</td>\n      <td>52.0</td>\n      <td>7.0</td>\n      <td>...</td>\n      <td>2.0</td>\n      <td>52.0</td>\n      <td>0.0</td>\n      <td>0.0</td>\n      <td>12.0</td>\n      <td>12.0</td>\n      <td>1.0</td>\n      <td>0.0</td>\n      <td>33.0</td>\n      <td>2.0</td>\n    </tr>\n    <tr>\n      <th>1600</th>\n      <td>Bavel</td>\n      <td>30.423769</td>\n      <td>1.680000</td>\n      <td>2.000000</td>\n      <td>1.725490</td>\n      <td>1.733333</td>\n      <td>2018</td>\n      <td>3.416667</td>\n      <td>68.0</td>\n      <td>8.0</td>\n      <td>...</td>\n      <td>10.0</td>\n      <td>34.0</td>\n      <td>2.0</td>\n      <td>0.0</td>\n      <td>8.0</td>\n      <td>10.0</td>\n      <td>0.0</td>\n      <td>0.0</td>\n      <td>19.0</td>\n      <td>0.0</td>\n    </tr>\n    <tr>\n      <th>...</th>\n      <td>...</td>\n      <td>...</td>\n      <td>...</td>\n      <td>...</td>\n      <td>...</td>\n      <td>...</td>\n      <td>...</td>\n      <td>...</td>\n      <td>...</td>\n      <td>...</td>\n      <td>...</td>\n      <td>...</td>\n      <td>...</td>\n      <td>...</td>\n      <td>...</td>\n      <td>...</td>\n      <td>...</td>\n      <td>...</td>\n      <td>...</td>\n      <td>...</td>\n      <td>...</td>\n    </tr>\n    <tr>\n      <th>131483</th>\n      <td>Zandberg</td>\n      <td>26.731392</td>\n      <td>4.833333</td>\n      <td>1.923077</td>\n      <td>4.000000</td>\n      <td>4.971429</td>\n      <td>2016</td>\n      <td>7.250000</td>\n      <td>35.0</td>\n      <td>6.0</td>\n      <td>...</td>\n      <td>0.0</td>\n      <td>35.0</td>\n      <td>0.0</td>\n      <td>0.0</td>\n      <td>11.0</td>\n      <td>10.0</td>\n      <td>1.0</td>\n      <td>1.0</td>\n      <td>36.0</td>\n      <td>0.0</td>\n    </tr>\n    <tr>\n      <th>131883</th>\n      <td>Zandberg</td>\n      <td>20.985215</td>\n      <td>4.545455</td>\n      <td>2.000000</td>\n      <td>4.076923</td>\n      <td>5.128205</td>\n      <td>2017</td>\n      <td>6.416667</td>\n      <td>26.0</td>\n      <td>3.0</td>\n      <td>...</td>\n      <td>1.0</td>\n      <td>28.0</td>\n      <td>0.0</td>\n      <td>0.0</td>\n      <td>0.0</td>\n      <td>6.0</td>\n      <td>1.0</td>\n      <td>1.0</td>\n      <td>24.0</td>\n      <td>1.0</td>\n    </tr>\n    <tr>\n      <th>132283</th>\n      <td>Zandberg</td>\n      <td>19.118199</td>\n      <td>4.000000</td>\n      <td>1.600000</td>\n      <td>5.135135</td>\n      <td>4.631579</td>\n      <td>2018</td>\n      <td>8.083333</td>\n      <td>17.0</td>\n      <td>5.0</td>\n      <td>...</td>\n      <td>2.0</td>\n      <td>37.0</td>\n      <td>0.0</td>\n      <td>0.0</td>\n      <td>7.0</td>\n      <td>1.0</td>\n      <td>1.0</td>\n      <td>0.0</td>\n      <td>19.0</td>\n      <td>2.0</td>\n    </tr>\n    <tr>\n      <th>132683</th>\n      <td>Zandberg</td>\n      <td>18.183772</td>\n      <td>4.114286</td>\n      <td>1.250000</td>\n      <td>3.763158</td>\n      <td>4.459459</td>\n      <td>2019</td>\n      <td>6.916667</td>\n      <td>12.0</td>\n      <td>4.0</td>\n      <td>...</td>\n      <td>4.0</td>\n      <td>47.0</td>\n      <td>0.0</td>\n      <td>0.0</td>\n      <td>3.0</td>\n      <td>7.0</td>\n      <td>1.0</td>\n      <td>2.0</td>\n      <td>23.0</td>\n      <td>1.0</td>\n    </tr>\n    <tr>\n      <th>133083</th>\n      <td>Zandberg</td>\n      <td>18.983877</td>\n      <td>4.558669</td>\n      <td>0.000000</td>\n      <td>0.000000</td>\n      <td>0.000000</td>\n      <td>2020</td>\n      <td>13.416667</td>\n      <td>17.0</td>\n      <td>6.0</td>\n      <td>...</td>\n      <td>3.0</td>\n      <td>31.0</td>\n      <td>0.0</td>\n      <td>0.0</td>\n      <td>5.0</td>\n      <td>3.0</td>\n      <td>1.0</td>\n      <td>1.0</td>\n      <td>21.0</td>\n      <td>2.0</td>\n    </tr>\n  </tbody>\n</table>\n<p>388 rows × 24 columns</p>\n</div>"
     },
     "execution_count": 5,
     "metadata": {},
     "output_type": "execute_result"
    }
   ],
   "source": [
    "merged"
   ],
   "metadata": {
    "collapsed": false
   }
  },
  {
   "cell_type": "markdown",
   "source": [
    "#### Saving the result to a .csv file."
   ],
   "metadata": {
    "collapsed": false
   }
  },
  {
   "cell_type": "code",
   "execution_count": 6,
   "outputs": [],
   "source": [
    "merged.to_csv(\n",
    "    '../../../data/preprocessed/merged.csv', index=False)"
   ],
   "metadata": {
    "collapsed": false
   }
  },
  {
   "cell_type": "code",
   "execution_count": null,
   "outputs": [],
   "source": [],
   "metadata": {
    "collapsed": false
   }
  }
 ],
 "metadata": {
  "kernelspec": {
   "display_name": "Python 3",
   "language": "python",
   "name": "python3"
  },
  "language_info": {
   "codemirror_mode": {
    "name": "ipython",
    "version": 2
   },
   "file_extension": ".py",
   "mimetype": "text/x-python",
   "name": "python",
   "nbconvert_exporter": "python",
   "pygments_lexer": "ipython2",
   "version": "2.7.6"
  }
 },
 "nbformat": 4,
 "nbformat_minor": 0
}
