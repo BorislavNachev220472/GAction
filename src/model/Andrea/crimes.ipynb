{
 "cells": [
  {
   "cell_type": "code",
   "execution_count": 1,
   "metadata": {},
   "outputs": [],
   "source": [
    "import pandas as pd"
   ]
  },
  {
   "cell_type": "code",
   "execution_count": 2,
   "metadata": {},
   "outputs": [],
   "source": [
    "crimes = pd.read_csv('../../../data/raw/recorded_crimes.csv')"
   ]
  },
  {
   "cell_type": "code",
   "execution_count": 3,
   "metadata": {},
   "outputs": [
    {
     "data": {
      "text/plain": [
       "0         2012\n",
       "1         2012\n",
       "2         2012\n",
       "3         2012\n",
       "4         2012\n",
       "          ... \n",
       "545627    2022\n",
       "545628    2023\n",
       "545629    2023\n",
       "545630    2023\n",
       "545631    2023\n",
       "Name: Perioden, Length: 545632, dtype: object"
      ]
     },
     "execution_count": 3,
     "metadata": {},
     "output_type": "execute_result"
    }
   ],
   "source": [
    "crimes['Perioden'] = crimes['Perioden'].str[:4].str.strip()\n",
    "crimes['Perioden']"
   ]
  },
  {
   "cell_type": "code",
   "execution_count": 4,
   "metadata": {},
   "outputs": [],
   "source": [
    "grouped_df = crimes.groupby(['Perioden', 'WijkenEnBuurten', 'SoortMisdrijf']).sum()['GeregistreerdeMisdrijven_1']\n",
    "grouped_df = grouped_df.reset_index()"
   ]
  },
  {
   "cell_type": "code",
   "execution_count": 5,
   "metadata": {},
   "outputs": [],
   "source": [
    "grouped_df = grouped_df[grouped_df['GeregistreerdeMisdrijven_1'] != 0]"
   ]
  },
  {
   "cell_type": "code",
   "execution_count": 6,
   "metadata": {},
   "outputs": [],
   "source": [
    "grouped_df2 = grouped_df[grouped_df['WijkenEnBuurten'] != 'Breda']\n"
   ]
  },
  {
   "cell_type": "code",
   "execution_count": 12,
   "metadata": {},
   "outputs": [],
   "source": [
    "grouped_df2 = grouped_df2[grouped_df2['SoortMisdrijf'] == 'Totaal misdrijven']\n",
    "grouped_df2 = grouped_df2.sort_values('Perioden')"
   ]
  },
  {
   "cell_type": "code",
   "execution_count": 8,
   "metadata": {},
   "outputs": [],
   "source": [
    "grouped_df2 = grouped_df2.loc[grouped_df['Perioden'] > str(2013)]\n",
    "grouped_df2 = grouped_df2.drop(['SoortMisdrijf'], axis=1)"
   ]
  },
  {
   "cell_type": "code",
   "execution_count": null,
   "metadata": {},
   "outputs": [],
   "source": [
    "grouped_df2.to_csv('../../../data/preprocessed/prepocessed_crimes.csv', index=False)"
   ]
  }
 ],
 "metadata": {
  "kernelspec": {
   "display_name": ".venv",
   "language": "python",
   "name": "python3"
  },
  "language_info": {
   "codemirror_mode": {
    "name": "ipython",
    "version": 3
   },
   "file_extension": ".py",
   "mimetype": "text/x-python",
   "name": "python",
   "nbconvert_exporter": "python",
   "pygments_lexer": "ipython3",
   "version": "3.11.0"
  },
  "orig_nbformat": 4
 },
 "nbformat": 4,
 "nbformat_minor": 2
}
