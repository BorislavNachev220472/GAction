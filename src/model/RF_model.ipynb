{
 "cells": [
  {
   "cell_type": "code",
   "execution_count": 4,
   "metadata": {
    "collapsed": true
   },
   "outputs": [],
   "source": [
    "from sklearn.ensemble import RandomForestRegressor\n",
    "from sklearn.metrics import mean_squared_error\n",
    "import matplotlib.pyplot as plt\n",
    "import pandas as pd"
   ]
  },
  {
   "cell_type": "code",
   "execution_count": 5,
   "outputs": [],
   "source": [
    "df = pd.read_csv('../../data/final/original_liv_data_per_year.csv')"
   ],
   "metadata": {
    "collapsed": false
   }
  },
  {
   "cell_type": "code",
   "execution_count": 6,
   "outputs": [],
   "source": [
    "df['moving_out'] = df['Vertrek']\n",
    "df['moving_in'] = (df['Vestiging'] + df['Verhuizing binnen gridcel'] + df['Verhuizing']) / 3\n",
    "df = df.loc[df['Neighbourhood'] != 'Hoogeind']\n"
   ],
   "metadata": {
    "collapsed": false
   }
  },
  {
   "cell_type": "code",
   "execution_count": 7,
   "outputs": [],
   "source": [
    "neighborhoods = df['Neighbourhood'].unique()\n",
    "data = {}\n",
    "\n",
    "for neighborhood in neighborhoods:\n",
    "    data[neighborhood] = []\n",
    "    df_neighborhood = df[df['Neighbourhood'] == neighborhood]\n",
    "    X = df_neighborhood[\n",
    "        ['green_score', 'nuisance', 'GeregistreerdeMisdrijven_1',\n",
    "         'moving_in', 'moving_out']]\n",
    "    y = df_neighborhood['Livability index'].to_numpy()\n",
    "\n",
    "    model = RandomForestRegressor(random_state=42)\n",
    "    model.fit(X, y)\n",
    "    importances = model.feature_importances_\n",
    "    data[neighborhood].append(importances)\n",
    "\n",
    "    split = 5\n",
    "    X_train, y_train, X_test, y_test = X[:split], y[:split], X[split:], y[split:]\n",
    "\n",
    "    model = RandomForestRegressor(random_state=42)\n",
    "    model.fit(X_train, y_train)\n",
    "\n",
    "    preds = model.predict(X_test)\n",
    "\n",
    "    data[neighborhood].append(preds)\n",
    "    data[neighborhood].append(y_test)\n",
    "    data[neighborhood].append(mean_squared_error(y_test, preds))\n",
    "\n",
    "final_df = pd.DataFrame(data).T\n",
    "final_df.columns = ['Feature importance', 'pred', 'actual', 'mse']"
   ],
   "metadata": {
    "collapsed": false
   }
  },
  {
   "cell_type": "code",
   "execution_count": 8,
   "outputs": [
    {
     "data": {
      "text/plain": "                                                         Feature importance  \\\nBavel                     [0.02985074626865672, 0.4477611940298508, 0.0,...   \nBelcrum                                           [0.0, 0.0, 0.0, 0.0, 0.0]   \nBiesdonk                                          [0.0, 0.0, 0.0, 0.0, 0.0]   \nBlauwe Kei                [0.21210526315789444, 0.21942982456140314, 0.2...   \nBoeimeer                                          [0.0, 0.0, 0.0, 0.0, 0.0]   \nBrabantpark               [0.11428571428571428, 0.32857142857142857, 0.0...   \nBuitengebied Bavel                                [0.0, 0.0, 0.0, 0.0, 0.0]   \nBuitengebied Prinsenbeek  [0.06153846153846154, 0.27692307692307694, 0.3...   \nBuitengebied Teteringen                           [0.0, 0.0, 0.0, 0.0, 0.0]   \nBuitengebied Ulvenhout    [0.0, 0.042857142857142864, 0.1285714285714286...   \nChassé                    [0.03760913312693493, 0.05581578947368443, 0.5...   \nCity                      [0.02702702702702703, 0.013513513513513514, 0....   \nDoornbos-Linie                                    [0.0, 0.0, 0.0, 0.0, 0.0]   \nEffen-Rith                                        [0.0, 0.0, 0.0, 0.0, 0.0]   \nEmer                                              [0.0, 0.0, 0.0, 0.0, 0.0]   \nFellenoord                [0.08401557625632701, 0.25269845880502895, 0.1...   \nGageldonk                 [0.1896551724137931, 0.4827586206896552, 0.137...   \nGeeren-noord              [0.047619047619047616, 0.047619047619047616, 0...   \nGeeren-zuid                                       [0.0, 0.0, 0.0, 0.0, 0.0]   \nGinneken                                          [0.0, 0.0, 0.0, 0.0, 0.0]   \nHaagpoort                 [0.29065297493715336, 0.15853114187196365, 0.2...   \nHagebeemd                 [0.16923076923076924, 0.015384615384615385, 0....   \nHazeldonk                                         [0.0, 0.0, 0.0, 0.0, 0.0]   \nHeilaar                                           [0.0, 0.0, 0.0, 0.0, 0.0]   \nHeksenwiel                                        [0.0, 0.0, 0.0, 0.0, 0.0]   \nHeusdenhout               [0.22364457831325288, 0.09673694779116455, 0.1...   \nHeuvel                    [0.10943834640991187, 0.16465963591386057, 0.0...   \nKesteren                  [0.13260458087169236, 0.16762330469623926, 0.0...   \nKievitsloop               [0.3898305084745763, 0.0847457627118644, 0.0, ...   \nKroeten                   [0.27032967032966987, 0.19372710622710593, 0.1...   \nKrogten                   [0.5381830601092886, 0.10009107468123665, 0.08...   \nLiesbos                   [0.27440476190476165, 0.15247252747252743, 0.1...   \nMastbos                   [0.36923076923076925, 0.35384615384615387, 0.0...   \nMoleneind-oost                                    [0.0, 0.0, 0.0, 0.0, 0.0]   \nMuizenberg                [0.014285714285714285, 0.08571428571428572, 0....   \nNieuw Wolfslaar           [0.11584699453552198, 0.12468123861566721, 0.0...   \nOverakker                 [0.0, 0.13432835820895522, 0.01492537313432835...   \nOverkroeten                                       [0.0, 0.0, 0.0, 0.0, 0.0]   \nPrincenhage               [0.29182608513490954, 0.18681254475371978, 0.1...   \nPrinsenbeek               [0.13114754098360656, 0.39344262295081966, 0.0...   \nRuitersbos                                        [0.0, 0.0, 0.0, 0.0, 0.0]   \nSchorsmolen               [0.05475304490525485, 0.3577917770199159, 0.36...   \nSportpark                 [0.0, 0.014285714285714285, 0.3142857142857143...   \nStation                                           [0.0, 0.0, 0.0, 0.0, 0.0]   \nSteenakker                [0.1258899999109847, 0.07433722552691487, 0.29...   \nTeteringen                [0.015873015873015876, 0.761904761904762, 0.03...   \nTuinzigt                  [0.05249750775011752, 0.275554497108329, 0.194...   \nUlvenhout                                         [0.0, 0.0, 0.0, 0.0, 0.0]   \nValkenberg                [0.06153846153846154, 0.49230769230769234, 0.1...   \nVuchtpolder                                       [0.0, 0.0, 0.0, 0.0, 0.0]   \nWaterdonken                                       [0.0, 0.0, 0.0, 0.0, 0.0]   \nWesterpark                [0.4529850746268696, 0.13441127694858504, 0.18...   \nWisselaar                                         [0.0, 0.0, 0.0, 0.0, 0.0]   \nYpelaar                                           [0.0, 0.0, 0.0, 0.0, 0.0]   \nZandberg                                          [0.0, 0.0, 0.0, 0.0, 0.0]   \n\n                                  pred  actual      mse  \nBavel                       [7.0, 7.0]  [7, 8]      0.5  \nBelcrum                     [6.0, 6.0]  [6, 6]      0.0  \nBiesdonk                    [2.0, 2.0]  [2, 2]      0.0  \nBlauwe Kei                [7.31, 7.42]  [8, 8]  0.40625  \nBoeimeer                    [8.0, 8.0]  [8, 8]      0.0  \nBrabantpark                 [6.0, 6.0]  [6, 7]      0.5  \nBuitengebied Bavel          [9.0, 9.0]  [9, 9]      0.0  \nBuitengebied Prinsenbeek    [8.0, 8.0]  [8, 9]      0.5  \nBuitengebied Teteringen     [9.0, 9.0]  [9, 9]      0.0  \nBuitengebied Ulvenhout      [9.0, 9.0]  [9, 8]      0.5  \nChassé                    [6.67, 6.97]  [7, 8]   0.5849  \nCity                        [6.0, 6.0]  [6, 7]      0.5  \nDoornbos-Linie              [2.0, 2.0]  [2, 2]      0.0  \nEffen-Rith                  [8.0, 8.0]  [8, 8]      0.0  \nEmer                        [1.0, 1.0]  [1, 1]      0.0  \nFellenoord                [2.21, 2.37]  [3, 5]   3.7705  \nGageldonk                   [6.0, 5.6]  [6, 6]     0.08  \nGeeren-noord                [3.0, 3.0]  [3, 2]      0.5  \nGeeren-zuid                 [2.0, 2.0]  [2, 2]      0.0  \nGinneken                    [9.0, 9.0]  [9, 9]      0.0  \nHaagpoort                 [4.24, 3.78]  [4, 5]    0.773  \nHagebeemd                 [8.87, 8.91]  [9, 9]   0.0125  \nHazeldonk                        [1.0]     [1]      0.0  \nHeilaar                     [9.0, 9.0]  [9, 9]      0.0  \nHeksenwiel                  [6.0, 6.0]  [6, 6]      0.0  \nHeusdenhout               [6.17, 6.12]  [6, 7]  0.40165  \nHeuvel                    [2.31, 2.18]  [3, 5]  4.21425  \nKesteren                  [4.08, 5.14]  [4, 5]    0.013  \nKievitsloop               [5.92, 5.96]  [6, 6]    0.004  \nKroeten                    [5.7, 5.76]  [6, 6]   0.0738  \nKrogten                     [6.0, 6.0]  [6, 7]      0.5  \nLiesbos                    [8.4, 8.17]  [8, 8]  0.09445  \nMastbos                     [9.0, 9.0]  [9, 8]      0.5  \nMoleneind-oost                   [1.0]     [1]      0.0  \nMuizenberg                [5.96, 5.74]  [6, 6]   0.0346  \nNieuw Wolfslaar             [8.0, 8.0]  [8, 9]      0.5  \nOverakker                 [7.79, 7.91]  [8, 8]   0.0261  \nOverkroeten                 [6.0, 6.0]  [6, 6]      0.0  \nPrincenhage               [6.76, 6.67]  [7, 8]  0.91325  \nPrinsenbeek                 [7.0, 7.0]  [7, 8]      0.5  \nRuitersbos                  [9.0, 9.0]  [9, 9]      0.0  \nSchorsmolen               [2.45, 2.58]  [3, 5]  3.07945  \nSportpark                 [8.94, 8.95]  [9, 9]  0.00305  \nStation                     [6.0, 6.0]  [6, 6]      0.0  \nSteenakker                 [6.7, 6.74]  [6, 2]  11.4788  \nTeteringen                  [8.0, 8.0]  [8, 9]      0.5  \nTuinzigt                  [2.25, 2.16]  [3, 5]  4.31405  \nUlvenhout                   [8.0, 8.0]  [8, 8]      0.0  \nValkenberg                  [6.0, 6.0]  [6, 7]      0.5  \nVuchtpolder                 [9.0, 9.0]  [9, 9]      0.0  \nWaterdonken                 [6.0, 6.0]  [6, 6]      0.0  \nWesterpark                [6.85, 6.83]  [7, 7]   0.0257  \nWisselaar                   [2.0, 2.0]  [2, 2]      0.0  \nYpelaar                     [7.0, 7.0]  [7, 7]      0.0  \nZandberg                    [9.0, 9.0]  [9, 9]      0.0  ",
      "text/html": "<div>\n<style scoped>\n    .dataframe tbody tr th:only-of-type {\n        vertical-align: middle;\n    }\n\n    .dataframe tbody tr th {\n        vertical-align: top;\n    }\n\n    .dataframe thead th {\n        text-align: right;\n    }\n</style>\n<table border=\"1\" class=\"dataframe\">\n  <thead>\n    <tr style=\"text-align: right;\">\n      <th></th>\n      <th>Feature importance</th>\n      <th>pred</th>\n      <th>actual</th>\n      <th>mse</th>\n    </tr>\n  </thead>\n  <tbody>\n    <tr>\n      <th>Bavel</th>\n      <td>[0.02985074626865672, 0.4477611940298508, 0.0,...</td>\n      <td>[7.0, 7.0]</td>\n      <td>[7, 8]</td>\n      <td>0.5</td>\n    </tr>\n    <tr>\n      <th>Belcrum</th>\n      <td>[0.0, 0.0, 0.0, 0.0, 0.0]</td>\n      <td>[6.0, 6.0]</td>\n      <td>[6, 6]</td>\n      <td>0.0</td>\n    </tr>\n    <tr>\n      <th>Biesdonk</th>\n      <td>[0.0, 0.0, 0.0, 0.0, 0.0]</td>\n      <td>[2.0, 2.0]</td>\n      <td>[2, 2]</td>\n      <td>0.0</td>\n    </tr>\n    <tr>\n      <th>Blauwe Kei</th>\n      <td>[0.21210526315789444, 0.21942982456140314, 0.2...</td>\n      <td>[7.31, 7.42]</td>\n      <td>[8, 8]</td>\n      <td>0.40625</td>\n    </tr>\n    <tr>\n      <th>Boeimeer</th>\n      <td>[0.0, 0.0, 0.0, 0.0, 0.0]</td>\n      <td>[8.0, 8.0]</td>\n      <td>[8, 8]</td>\n      <td>0.0</td>\n    </tr>\n    <tr>\n      <th>Brabantpark</th>\n      <td>[0.11428571428571428, 0.32857142857142857, 0.0...</td>\n      <td>[6.0, 6.0]</td>\n      <td>[6, 7]</td>\n      <td>0.5</td>\n    </tr>\n    <tr>\n      <th>Buitengebied Bavel</th>\n      <td>[0.0, 0.0, 0.0, 0.0, 0.0]</td>\n      <td>[9.0, 9.0]</td>\n      <td>[9, 9]</td>\n      <td>0.0</td>\n    </tr>\n    <tr>\n      <th>Buitengebied Prinsenbeek</th>\n      <td>[0.06153846153846154, 0.27692307692307694, 0.3...</td>\n      <td>[8.0, 8.0]</td>\n      <td>[8, 9]</td>\n      <td>0.5</td>\n    </tr>\n    <tr>\n      <th>Buitengebied Teteringen</th>\n      <td>[0.0, 0.0, 0.0, 0.0, 0.0]</td>\n      <td>[9.0, 9.0]</td>\n      <td>[9, 9]</td>\n      <td>0.0</td>\n    </tr>\n    <tr>\n      <th>Buitengebied Ulvenhout</th>\n      <td>[0.0, 0.042857142857142864, 0.1285714285714286...</td>\n      <td>[9.0, 9.0]</td>\n      <td>[9, 8]</td>\n      <td>0.5</td>\n    </tr>\n    <tr>\n      <th>Chassé</th>\n      <td>[0.03760913312693493, 0.05581578947368443, 0.5...</td>\n      <td>[6.67, 6.97]</td>\n      <td>[7, 8]</td>\n      <td>0.5849</td>\n    </tr>\n    <tr>\n      <th>City</th>\n      <td>[0.02702702702702703, 0.013513513513513514, 0....</td>\n      <td>[6.0, 6.0]</td>\n      <td>[6, 7]</td>\n      <td>0.5</td>\n    </tr>\n    <tr>\n      <th>Doornbos-Linie</th>\n      <td>[0.0, 0.0, 0.0, 0.0, 0.0]</td>\n      <td>[2.0, 2.0]</td>\n      <td>[2, 2]</td>\n      <td>0.0</td>\n    </tr>\n    <tr>\n      <th>Effen-Rith</th>\n      <td>[0.0, 0.0, 0.0, 0.0, 0.0]</td>\n      <td>[8.0, 8.0]</td>\n      <td>[8, 8]</td>\n      <td>0.0</td>\n    </tr>\n    <tr>\n      <th>Emer</th>\n      <td>[0.0, 0.0, 0.0, 0.0, 0.0]</td>\n      <td>[1.0, 1.0]</td>\n      <td>[1, 1]</td>\n      <td>0.0</td>\n    </tr>\n    <tr>\n      <th>Fellenoord</th>\n      <td>[0.08401557625632701, 0.25269845880502895, 0.1...</td>\n      <td>[2.21, 2.37]</td>\n      <td>[3, 5]</td>\n      <td>3.7705</td>\n    </tr>\n    <tr>\n      <th>Gageldonk</th>\n      <td>[0.1896551724137931, 0.4827586206896552, 0.137...</td>\n      <td>[6.0, 5.6]</td>\n      <td>[6, 6]</td>\n      <td>0.08</td>\n    </tr>\n    <tr>\n      <th>Geeren-noord</th>\n      <td>[0.047619047619047616, 0.047619047619047616, 0...</td>\n      <td>[3.0, 3.0]</td>\n      <td>[3, 2]</td>\n      <td>0.5</td>\n    </tr>\n    <tr>\n      <th>Geeren-zuid</th>\n      <td>[0.0, 0.0, 0.0, 0.0, 0.0]</td>\n      <td>[2.0, 2.0]</td>\n      <td>[2, 2]</td>\n      <td>0.0</td>\n    </tr>\n    <tr>\n      <th>Ginneken</th>\n      <td>[0.0, 0.0, 0.0, 0.0, 0.0]</td>\n      <td>[9.0, 9.0]</td>\n      <td>[9, 9]</td>\n      <td>0.0</td>\n    </tr>\n    <tr>\n      <th>Haagpoort</th>\n      <td>[0.29065297493715336, 0.15853114187196365, 0.2...</td>\n      <td>[4.24, 3.78]</td>\n      <td>[4, 5]</td>\n      <td>0.773</td>\n    </tr>\n    <tr>\n      <th>Hagebeemd</th>\n      <td>[0.16923076923076924, 0.015384615384615385, 0....</td>\n      <td>[8.87, 8.91]</td>\n      <td>[9, 9]</td>\n      <td>0.0125</td>\n    </tr>\n    <tr>\n      <th>Hazeldonk</th>\n      <td>[0.0, 0.0, 0.0, 0.0, 0.0]</td>\n      <td>[1.0]</td>\n      <td>[1]</td>\n      <td>0.0</td>\n    </tr>\n    <tr>\n      <th>Heilaar</th>\n      <td>[0.0, 0.0, 0.0, 0.0, 0.0]</td>\n      <td>[9.0, 9.0]</td>\n      <td>[9, 9]</td>\n      <td>0.0</td>\n    </tr>\n    <tr>\n      <th>Heksenwiel</th>\n      <td>[0.0, 0.0, 0.0, 0.0, 0.0]</td>\n      <td>[6.0, 6.0]</td>\n      <td>[6, 6]</td>\n      <td>0.0</td>\n    </tr>\n    <tr>\n      <th>Heusdenhout</th>\n      <td>[0.22364457831325288, 0.09673694779116455, 0.1...</td>\n      <td>[6.17, 6.12]</td>\n      <td>[6, 7]</td>\n      <td>0.40165</td>\n    </tr>\n    <tr>\n      <th>Heuvel</th>\n      <td>[0.10943834640991187, 0.16465963591386057, 0.0...</td>\n      <td>[2.31, 2.18]</td>\n      <td>[3, 5]</td>\n      <td>4.21425</td>\n    </tr>\n    <tr>\n      <th>Kesteren</th>\n      <td>[0.13260458087169236, 0.16762330469623926, 0.0...</td>\n      <td>[4.08, 5.14]</td>\n      <td>[4, 5]</td>\n      <td>0.013</td>\n    </tr>\n    <tr>\n      <th>Kievitsloop</th>\n      <td>[0.3898305084745763, 0.0847457627118644, 0.0, ...</td>\n      <td>[5.92, 5.96]</td>\n      <td>[6, 6]</td>\n      <td>0.004</td>\n    </tr>\n    <tr>\n      <th>Kroeten</th>\n      <td>[0.27032967032966987, 0.19372710622710593, 0.1...</td>\n      <td>[5.7, 5.76]</td>\n      <td>[6, 6]</td>\n      <td>0.0738</td>\n    </tr>\n    <tr>\n      <th>Krogten</th>\n      <td>[0.5381830601092886, 0.10009107468123665, 0.08...</td>\n      <td>[6.0, 6.0]</td>\n      <td>[6, 7]</td>\n      <td>0.5</td>\n    </tr>\n    <tr>\n      <th>Liesbos</th>\n      <td>[0.27440476190476165, 0.15247252747252743, 0.1...</td>\n      <td>[8.4, 8.17]</td>\n      <td>[8, 8]</td>\n      <td>0.09445</td>\n    </tr>\n    <tr>\n      <th>Mastbos</th>\n      <td>[0.36923076923076925, 0.35384615384615387, 0.0...</td>\n      <td>[9.0, 9.0]</td>\n      <td>[9, 8]</td>\n      <td>0.5</td>\n    </tr>\n    <tr>\n      <th>Moleneind-oost</th>\n      <td>[0.0, 0.0, 0.0, 0.0, 0.0]</td>\n      <td>[1.0]</td>\n      <td>[1]</td>\n      <td>0.0</td>\n    </tr>\n    <tr>\n      <th>Muizenberg</th>\n      <td>[0.014285714285714285, 0.08571428571428572, 0....</td>\n      <td>[5.96, 5.74]</td>\n      <td>[6, 6]</td>\n      <td>0.0346</td>\n    </tr>\n    <tr>\n      <th>Nieuw Wolfslaar</th>\n      <td>[0.11584699453552198, 0.12468123861566721, 0.0...</td>\n      <td>[8.0, 8.0]</td>\n      <td>[8, 9]</td>\n      <td>0.5</td>\n    </tr>\n    <tr>\n      <th>Overakker</th>\n      <td>[0.0, 0.13432835820895522, 0.01492537313432835...</td>\n      <td>[7.79, 7.91]</td>\n      <td>[8, 8]</td>\n      <td>0.0261</td>\n    </tr>\n    <tr>\n      <th>Overkroeten</th>\n      <td>[0.0, 0.0, 0.0, 0.0, 0.0]</td>\n      <td>[6.0, 6.0]</td>\n      <td>[6, 6]</td>\n      <td>0.0</td>\n    </tr>\n    <tr>\n      <th>Princenhage</th>\n      <td>[0.29182608513490954, 0.18681254475371978, 0.1...</td>\n      <td>[6.76, 6.67]</td>\n      <td>[7, 8]</td>\n      <td>0.91325</td>\n    </tr>\n    <tr>\n      <th>Prinsenbeek</th>\n      <td>[0.13114754098360656, 0.39344262295081966, 0.0...</td>\n      <td>[7.0, 7.0]</td>\n      <td>[7, 8]</td>\n      <td>0.5</td>\n    </tr>\n    <tr>\n      <th>Ruitersbos</th>\n      <td>[0.0, 0.0, 0.0, 0.0, 0.0]</td>\n      <td>[9.0, 9.0]</td>\n      <td>[9, 9]</td>\n      <td>0.0</td>\n    </tr>\n    <tr>\n      <th>Schorsmolen</th>\n      <td>[0.05475304490525485, 0.3577917770199159, 0.36...</td>\n      <td>[2.45, 2.58]</td>\n      <td>[3, 5]</td>\n      <td>3.07945</td>\n    </tr>\n    <tr>\n      <th>Sportpark</th>\n      <td>[0.0, 0.014285714285714285, 0.3142857142857143...</td>\n      <td>[8.94, 8.95]</td>\n      <td>[9, 9]</td>\n      <td>0.00305</td>\n    </tr>\n    <tr>\n      <th>Station</th>\n      <td>[0.0, 0.0, 0.0, 0.0, 0.0]</td>\n      <td>[6.0, 6.0]</td>\n      <td>[6, 6]</td>\n      <td>0.0</td>\n    </tr>\n    <tr>\n      <th>Steenakker</th>\n      <td>[0.1258899999109847, 0.07433722552691487, 0.29...</td>\n      <td>[6.7, 6.74]</td>\n      <td>[6, 2]</td>\n      <td>11.4788</td>\n    </tr>\n    <tr>\n      <th>Teteringen</th>\n      <td>[0.015873015873015876, 0.761904761904762, 0.03...</td>\n      <td>[8.0, 8.0]</td>\n      <td>[8, 9]</td>\n      <td>0.5</td>\n    </tr>\n    <tr>\n      <th>Tuinzigt</th>\n      <td>[0.05249750775011752, 0.275554497108329, 0.194...</td>\n      <td>[2.25, 2.16]</td>\n      <td>[3, 5]</td>\n      <td>4.31405</td>\n    </tr>\n    <tr>\n      <th>Ulvenhout</th>\n      <td>[0.0, 0.0, 0.0, 0.0, 0.0]</td>\n      <td>[8.0, 8.0]</td>\n      <td>[8, 8]</td>\n      <td>0.0</td>\n    </tr>\n    <tr>\n      <th>Valkenberg</th>\n      <td>[0.06153846153846154, 0.49230769230769234, 0.1...</td>\n      <td>[6.0, 6.0]</td>\n      <td>[6, 7]</td>\n      <td>0.5</td>\n    </tr>\n    <tr>\n      <th>Vuchtpolder</th>\n      <td>[0.0, 0.0, 0.0, 0.0, 0.0]</td>\n      <td>[9.0, 9.0]</td>\n      <td>[9, 9]</td>\n      <td>0.0</td>\n    </tr>\n    <tr>\n      <th>Waterdonken</th>\n      <td>[0.0, 0.0, 0.0, 0.0, 0.0]</td>\n      <td>[6.0, 6.0]</td>\n      <td>[6, 6]</td>\n      <td>0.0</td>\n    </tr>\n    <tr>\n      <th>Westerpark</th>\n      <td>[0.4529850746268696, 0.13441127694858504, 0.18...</td>\n      <td>[6.85, 6.83]</td>\n      <td>[7, 7]</td>\n      <td>0.0257</td>\n    </tr>\n    <tr>\n      <th>Wisselaar</th>\n      <td>[0.0, 0.0, 0.0, 0.0, 0.0]</td>\n      <td>[2.0, 2.0]</td>\n      <td>[2, 2]</td>\n      <td>0.0</td>\n    </tr>\n    <tr>\n      <th>Ypelaar</th>\n      <td>[0.0, 0.0, 0.0, 0.0, 0.0]</td>\n      <td>[7.0, 7.0]</td>\n      <td>[7, 7]</td>\n      <td>0.0</td>\n    </tr>\n    <tr>\n      <th>Zandberg</th>\n      <td>[0.0, 0.0, 0.0, 0.0, 0.0]</td>\n      <td>[9.0, 9.0]</td>\n      <td>[9, 9]</td>\n      <td>0.0</td>\n    </tr>\n  </tbody>\n</table>\n</div>"
     },
     "execution_count": 8,
     "metadata": {},
     "output_type": "execute_result"
    }
   ],
   "source": [
    "final_df"
   ],
   "metadata": {
    "collapsed": false
   }
  },
  {
   "cell_type": "code",
   "execution_count": null,
   "outputs": [],
   "source": [],
   "metadata": {
    "collapsed": false
   }
  }
 ],
 "metadata": {
  "kernelspec": {
   "display_name": "Python 3",
   "language": "python",
   "name": "python3"
  },
  "language_info": {
   "codemirror_mode": {
    "name": "ipython",
    "version": 2
   },
   "file_extension": ".py",
   "mimetype": "text/x-python",
   "name": "python",
   "nbconvert_exporter": "python",
   "pygments_lexer": "ipython2",
   "version": "2.7.6"
  }
 },
 "nbformat": 4,
 "nbformat_minor": 0
}
