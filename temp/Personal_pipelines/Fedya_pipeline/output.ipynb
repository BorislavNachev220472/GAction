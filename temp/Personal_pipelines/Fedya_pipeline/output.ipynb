{
 "cells": [
  {
   "cell_type": "markdown",
   "source": [],
   "metadata": {
    "collapsed": false
   },
   "id": "d912636b68a7d05e"
  },
  {
   "cell_type": "markdown",
   "source": [
    "# Required Libraries and Directory Structure\n",
    "\n",
    "Libraries:\n",
    "\n",
    "opencv-python\n",
    "pandas\n",
    "numpy\n",
    "glob2\n",
    "scikit-image\n",
    "patchify\n",
    "networkx\n",
    "skan\n",
    "tqdm\n",
    "segmentation-models\n",
    "tensorflow\n",
    "keras\n",
    "\n",
    "File Structure:\n",
    "\n",
    "In order for code to work properly the files should be stored in the same directory (e.g. following structure)\n",
    "\n",
    "Directory/\n",
    "├── backend.py\n",
    "├── model_256.json\n",
    "├── output.ipynb\n",
    "└── transfer_learning_weights256.h5\n"
   ],
   "metadata": {
    "collapsed": false
   },
   "id": "df0c4029a0edb01b"
  },
  {
   "cell_type": "code",
   "execution_count": 1,
   "outputs": [
    {
     "name": "stdout",
     "output_type": "stream",
     "text": [
      "Segmentation Models: using `tf.keras` framework.\n"
     ]
    }
   ],
   "source": [
    "# the whole pipeline is imported here\n",
    "from backend import *"
   ],
   "metadata": {
    "collapsed": false,
    "ExecuteTime": {
     "end_time": "2024-02-20T18:32:51.612311Z",
     "start_time": "2024-02-20T18:32:47.767985Z"
    }
   },
   "id": "aeb5a8fec4943dd3"
  },
  {
   "cell_type": "markdown",
   "source": [
    "# Example of directory path\n",
    "\n",
    "The directory path should look something like this if you're using a Mac:\n",
    "- Example - /Users/work_uni/Documents/GitHub/NPECxAI/test_dataset\n",
    "- The directory should contain only images ( file extension does not matter )\n",
    "- The path to the directory should not include \"/\" in the end"
   ],
   "metadata": {
    "collapsed": false
   },
   "id": "85ae5b0c7d814c5a"
  },
  {
   "cell_type": "code",
   "execution_count": 2,
   "outputs": [
    {
     "name": "stderr",
     "output_type": "stream",
     "text": [
      "100%|██████████| 11/11 [12:31<00:00, 68.34s/it]\n"
     ]
    },
    {
     "data": {
      "text/plain": "'All the outputs are saved at - /Users/work_uni/Documents/GitHub/AIxPlant_Science/Personal_pipelines/Fedya_pipeline/outputs'"
     },
     "execution_count": 2,
     "metadata": {},
     "output_type": "execute_result"
    }
   ],
   "source": [
    "# Provide the path to the images here\n",
    "path_to_images = \"/Users/work_uni/Documents/GitHub/AIxPlant_Science/overlapping_roots/input_images\"\n",
    "get_measurements(path_to_images)\n",
    "# below you can see an example of an output that you're supposed to get when code is executed"
   ],
   "metadata": {
    "collapsed": false,
    "ExecuteTime": {
     "end_time": "2024-02-20T18:45:23.431354Z",
     "start_time": "2024-02-20T18:32:51.611529Z"
    }
   },
   "id": "a68f7389dda18b84"
  },
  {
   "cell_type": "code",
   "execution_count": null,
   "outputs": [],
   "source": [],
   "metadata": {
    "collapsed": false,
    "ExecuteTime": {
     "start_time": "2024-02-08T21:31:25.198322Z"
    }
   },
   "id": "9f5a8441dd70b18b"
  }
 ],
 "metadata": {
  "kernelspec": {
   "display_name": "Python 3",
   "language": "python",
   "name": "python3"
  },
  "language_info": {
   "codemirror_mode": {
    "name": "ipython",
    "version": 2
   },
   "file_extension": ".py",
   "mimetype": "text/x-python",
   "name": "python",
   "nbconvert_exporter": "python",
   "pygments_lexer": "ipython2",
   "version": "2.7.6"
  }
 },
 "nbformat": 4,
 "nbformat_minor": 5
}
