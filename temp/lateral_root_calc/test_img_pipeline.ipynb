def test_look_below():
    # Test case 1: skeleton[row-1, column-1] is True
    save_cords = (2, 2)
    skeleton = [
        [False, False, False],
        [False, True, False],
        [False, False, False]
    ]
    expected_output = (1, 1)
    assert look_below(save_cords, skeleton) == expected_output

    # Test case 2: skeleton[row, column-1] is True
    save_cords = (1, 2)
    skeleton = [
        [False, False, False],
        [False, True, False],
        [False, False, False]
    ]
    expected_output = (1, 1)
    assert look_below(save_cords, skeleton) == expected_output

    # Test case 3: skeleton[row+1, column-1] is True
    save_cords = (0, 2)
    skeleton = [
        [False, False, False],
        [False, False, False],
        [False, True, False]
    ]
    expected_output = (1, 1)
    assert look_below(save_cords, skeleton) == expected_output

    # Test case 4: skeleton[row-1, column] is True
    save_cords = (2, 1)
    skeleton = [
        [False, False, False],
        [False, True, False],
        [False, False, False]
    ]
    expected_output = "up"
    assert look_below(save_cords, skeleton) == expected_output

    # Test case 5: skeleton[row+1, column] is True
    save_cords = (0, 1)
    skeleton = [
        [False, False, False],
        [False, False, False],
        [False, True, False]
    ]
    expected_output = "down"
    assert look_below(save_cords, skeleton) == expected_output

    # Test case 6: skeleton[row-1, column+1] is True
    save_cords = (2, 0)
    skeleton = [
        [False, False, False],
        [False, True, False],
        [False, False, False]
    ]
    expected_output = "right-up"
    assert look_below(save_cords, skeleton) == expected_output

    # Test case 7: skeleton[row, column+1] is True
    save_cords = (1, 0)
    skeleton = [
        [False, False, False],
        [False, True, False],
        [False, False, False]
    ]
    expected_output = "right"
    assert look_below(save_cords, skeleton) == expected_output

    # Test case 8: skeleton[row+1, column+1] is True
    save_cords = (0, 0)
    skeleton = [
        [False, False, False],
        [False, False, False],
        [False, True, False]
    ]
    expected_output = "right-down"
    assert look_below(save_cords, skeleton) == expected_output

test_look_below()