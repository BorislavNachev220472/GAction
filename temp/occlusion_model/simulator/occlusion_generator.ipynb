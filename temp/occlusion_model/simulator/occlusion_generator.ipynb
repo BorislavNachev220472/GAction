{
 "cells": [
  {
   "cell_type": "code",
   "execution_count": 1,
   "metadata": {
    "ExecuteTime": {
     "end_time": "2024-04-18T16:43:57.700492300Z",
     "start_time": "2024-04-18T16:43:57.053277400Z"
    }
   },
   "outputs": [],
   "source": [
    "import cv2\n",
    "import numpy as np\n",
    "import os\n",
    "from random import randint, choice"
   ]
  },
  {
   "cell_type": "markdown",
   "metadata": {},
   "source": [
    "To be applied in patches of 512"
   ]
  },
  {
   "cell_type": "code",
   "execution_count": 8,
   "metadata": {
    "ExecuteTime": {
     "end_time": "2024-04-19T06:46:43.341000600Z",
     "start_time": "2024-04-19T06:46:43.309294500Z"
    }
   },
   "outputs": [],
   "source": [
    "def apply_occlusions(input_folder, output_folder, min_occlusions=20, max_occlusions=30, min_radius=25, max_radius=55, border_margin=55):\n",
    "    \"\"\"\n",
    "    Apply fake occlusions to plant root mask images for data augmentation.\n",
    "\n",
    "    This function automates the generation of occlusions in plant root mask images to create training data for a model\n",
    "    aimed at \"healing\" or reconstructing occluded parts of plant root masks. The occlusions are circular and applied randomly\n",
    "    across the images, with constraints to prevent occlusion on image borders, root tips, and maintaining some images without occlusions.\n",
    "\n",
    "    Parameters:\n",
    "    - input_folder: str, the folder containing the original mask images.\n",
    "    - output_folder: str, the folder where the occluded images will be saved.\n",
    "    - min_occlusions: int, the minimum number of occlusions to apply to an image.\n",
    "    - max_occlusions: int, the maximum number of occlusions to apply to an image.\n",
    "    - min_radius: int, the minimum radius of the circular occlusions.\n",
    "    - max_radius: int, the maximum radius of the circular occlusions.\n",
    "    - border_margin: int, the margin from the image border within which occlusions should not be applied.\n",
    "\n",
    "    The function saves the occluded images in the output folder, preserving the file names.\n",
    "    \"\"\"\n",
    "\n",
    "    # Create the output folder if it does not exist.\n",
    "    if not os.path.exists(output_folder):\n",
    "        os.makedirs(output_folder)\n",
    "\n",
    "    # List all images in the input folder.\n",
    "    images = [f for f in os.listdir(input_folder) if f.endswith('.png') or f.endswith('.jpg')]\n",
    "    root_mask_counter = 0  # Counter to track images with root masks for selective occlusion application.\n",
    "\n",
    "    for img_name in images:\n",
    "        img_path = os.path.join(input_folder, img_name)\n",
    "        img = cv2.imread(img_path, cv2.IMREAD_GRAYSCALE)\n",
    "\n",
    "        # Skip occlusion for completely black images or every 20th image with a root mask.\n",
    "        if np.count_nonzero(img) == 0 or root_mask_counter % 20 == 0:\n",
    "            cv2.imwrite(os.path.join(output_folder, img_name), img)\n",
    "            if np.count_nonzero(img) > 0:\n",
    "                root_mask_counter += 1\n",
    "            continue\n",
    "\n",
    "        root_mask_counter += 1\n",
    "        height, width = img.shape\n",
    "        mask = np.zeros_like(img)  # Initialize a mask to apply occlusions.\n",
    "\n",
    "        num_occlusions = randint(min_occlusions, max_occlusions)  # Determine the number of occlusions to apply.\n",
    "\n",
    "        for _ in range(num_occlusions):\n",
    "            attempt = 0  # Track the number of attempts to find a suitable white pixel for occlusion.\n",
    "            while attempt < 100:  # Limit attempts to prevent infinite loops.\n",
    "                center_x = randint(border_margin, width - border_margin - 1)\n",
    "                center_y = randint(border_margin, height - border_margin - 1)\n",
    "                if img[center_y, center_x] == 255:  # Check if the pixel is part of the root mask.\n",
    "                    radius = randint(min_radius, max_radius)\n",
    "                    cv2.circle(mask, (center_x, center_y), radius, 255, -1)  # Apply the occlusion.\n",
    "                    break\n",
    "                attempt += 1\n",
    "\n",
    "        # Apply the occlusions mask to the original image.\n",
    "        occluded_img = cv2.bitwise_and(img, 255 - mask)\n",
    "        # Save the occluded image in the output folder.\n",
    "        cv2.imwrite(os.path.join(output_folder, img_name), occluded_img)\n"
   ]
  },
  {
   "cell_type": "code",
   "execution_count": 9,
   "metadata": {
    "ExecuteTime": {
     "end_time": "2024-04-19T06:46:49.325185100Z",
     "start_time": "2024-04-19T06:46:44.464634600Z"
    }
   },
   "outputs": [],
   "source": [
    "apply_occlusions('./test', './test_occluded')"
   ]
  },
  {
   "cell_type": "code",
   "execution_count": 9,
   "metadata": {},
   "outputs": [],
   "source": [
    "# apply_occlusions('data_patched_512_checked_2/val_images/val', 'data_patched_512_checked_2/val_masks/val')"
   ]
  },
  {
   "cell_type": "code",
   "execution_count": 10,
   "metadata": {},
   "outputs": [],
   "source": [
    "# apply_occlusions('data_patched_512_checked_2/train_images/train', 'data_patched_512_checked_2/train_masks/train')"
   ]
  }
 ],
 "metadata": {
  "kernelspec": {
   "display_name": "py310",
   "language": "python",
   "name": "python3"
  },
  "language_info": {
   "codemirror_mode": {
    "name": "ipython",
    "version": 3
   },
   "file_extension": ".py",
   "mimetype": "text/x-python",
   "name": "python",
   "nbconvert_exporter": "python",
   "pygments_lexer": "ipython3",
   "version": "3.10.13"
  }
 },
 "nbformat": 4,
 "nbformat_minor": 2
}
