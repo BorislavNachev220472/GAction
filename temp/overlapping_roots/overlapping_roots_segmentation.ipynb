{
 "cells": [
  {
   "cell_type": "code",
   "execution_count": 1,
   "id": "initial_id",
   "metadata": {
    "collapsed": true,
    "ExecuteTime": {
     "end_time": "2024-04-02T14:35:09.233308Z",
     "start_time": "2024-04-02T14:35:08.079163Z"
    }
   },
   "outputs": [],
   "source": [
    "import cv2\n",
    "import matplotlib.pyplot as plt\n",
    "import numpy as np\n",
    "import networkx as nx\n",
    "from skan import Skeleton, summarize\n",
    "import skimage\n",
    "import glob\n",
    "from tqdm import tqdm"
   ]
  },
  {
   "cell_type": "markdown",
   "source": [
    "## How it works:\n",
    "### !MASK SHOULD NOT BE CROPPED - same resolution as the petri dishes images including the white strip\n",
    "1. Load in mask (remove all small objects that are smaller than an average area of segmented instances)) (load_in_mask - function)\n",
    "2. Determine primary roots locations (determine_primary_roots_locations - function)\n",
    "3. Connect close enough starting nodes that lie in the area where seeds are supposed to be, helps with finding the highest starting point and avoiding errors with graphs analysis (connect_close_enough_starting_nodes - function)\n",
    "    - Get all possible starting nodes for each plant (possible means that they lie in the assumed bounding box where the seed can lie (bounding box is derived from the template that was provided)) (get_all_possible_start_nodes_for_each_plant - function)\n",
    "    - Finding the node (among all the possible nodes per plant)that is the closest to the center of the area where seeds are supposed to be (get_most_central_starting_node_for_each_plant - function)\n",
    "    - loop through all the possible nodes for each plant and draw a line to connect it to the one that is closest to the center of the area where seeds are supposed to be\n",
    "4. Segment primary roots (segmentation - function)\n",
    "5. Segment lateral roots (colour_lateral_roots_based_on_starting_point - function) (change later)\n",
    "6. Draw the segmentation on the image (last loop)\n",
    "\n",
    "## To understand easier here are some images representing the outputs of the several functions:\n",
    "- plant_bboxes -  image representing the bounding boxes for possible seeds position + the center of the box 'overlapping_roots/images_for_explanation/plants_bboxes.png'\n",
    "- get_all_possible_start_nodes_for_each_plant - all starting nodes for each plant 'overlapping_roots/images_for_explanation/get_all_possible_start_nodes_for_each_plant.png'\n",
    "- get_most_central_starting_node_for_each_plant - shows the starting nodes that are the closest to the center per each plant (not the best image - plants that don't have a point do not have a starting point in the bounding box for seeds 'overlapping_roots/images_for_explanation/get_most_central_starting_node_for_each_plant.png'\n",
    "- determine_primary_roots_locations - primary root slice overlapping_roots/images_for_explanation/determine_primary_roots_locations.png\n",
    "\n",
    "## Limitations that we have to fix and an image where it is visible\n",
    "- Lateral root is not detected after removing small objects - overlapping_roots/overlapping_roots_segmented/000_43-18-ROOT1-2023-08-08_pvdCherry_OD001_Col0_01-Fish Eye Corrected_segmented.png\n",
    "- Plant is present but not in the bounding box -> not detected - overlapping_roots/overlapping_roots_segmented/001_43-18-ROOT1-2023-08-08_pvd_OD001_Col0_02-Fish Eye Corrected_segmented.png\n",
    "- Lowest node is not from this plant - overlapping_roots/overlapping_roots_segmented/015_43-18-ROOT1-2023-08-08_pvd_OD001_f6h1_02-Fish Eye Corrected_segmented.png\n",
    "- The shortest path is not the primary root - overlapping_roots/overlapping_roots_segmented/019_43-19-ROOT1-2023-08-08_pvd_OD001_Col0_03-Fish Eye Corrected_segmented.png\n",
    "- Primary roots is poorly detected as it's cut off in the slice image - overlapping_roots/overlapping_roots_segmented/031_43-18-ROOT1-2023-08-08_pvd_OD0001_col-0_05-Fish Eye Corrected_segmented.png (last plant) / overlapping_roots/overlapping_roots_segmented/001_43-18-ROOT1-2023-08-08_pvd_OD001_Col0_02-Fish Eye Corrected_segmented.png (3rd plant)\n",
    "- Protrusions from the primary root - overlapping_roots/overlapping_roots_segmented/006_43-17-ROOT1-2023-08-08_mock_pH5_f6h1_02-Fish Eye Corrected_segmented.png"
   ],
   "metadata": {
    "collapsed": false
   },
   "id": "b4f8bb372e65b8da"
  },
  {
   "cell_type": "code",
   "execution_count": 2,
   "outputs": [],
   "source": [
    "def load_in_mask(path):\n",
    "    \n",
    "    '''\n",
    "    Takes in a path to the mask, loads it in, segments it, removes all the object that are smaller than an average area of all segmented instances, transfers the image back to BGR\n",
    "    \n",
    "    Args:\n",
    "        path: path to an image\n",
    "\n",
    "    Returns:\n",
    "        mask wihthout small noise \n",
    "    '''\n",
    "    \n",
    "    # read the mask\n",
    "    mask = cv2.imread(path, 0)\n",
    "    mask = cv2.cvtColor(mask, cv2.COLOR_GRAY2BGR)\n",
    "    #get the labels and stats\n",
    "    # mask_seeding_position_label = skimage.measure.label(mask).astype('uint8')\n",
    "    # _, template_segmented, stats, _ = cv2.connectedComponentsWithStats(mask_seeding_position_label)\n",
    "    # \n",
    "    # #remove objects that are smaller than the average area\n",
    "    # template_segmented = skimage.morphology.remove_small_objects(template_segmented, np.mean(stats[1:,4]))\n",
    "    # \n",
    "    # #transfer image back to BGR\n",
    "    # template_segmented = (template_segmented * 255).astype(np.uint8)\n",
    "    # template_segmented = cv2.cvtColor(template_segmented, cv2.COLOR_GRAY2BGR)\n",
    "    \n",
    "    return mask"
   ],
   "metadata": {
    "collapsed": false,
    "ExecuteTime": {
     "end_time": "2024-04-02T14:35:09.233520Z",
     "start_time": "2024-04-02T14:35:09.225973Z"
    }
   },
   "id": "aa4cc4ee438ff212"
  },
  {
   "cell_type": "code",
   "execution_count": 3,
   "outputs": [],
   "source": [
    "def load_in_seedlings_template(template_path):\n",
    "    '''\n",
    "    \n",
    "    Args:\n",
    "        template_path: path to the template with seeds positions\n",
    "\n",
    "    Returns:\n",
    "        template of seeds positions that was provided\n",
    "    '''\n",
    "    template = cv2.imread(template_path, 0)\n",
    "    return template"
   ],
   "metadata": {
    "collapsed": false,
    "ExecuteTime": {
     "end_time": "2024-04-02T14:35:09.233555Z",
     "start_time": "2024-04-02T14:35:09.227530Z"
    }
   },
   "id": "4295b7087b6facb2"
  },
  {
   "cell_type": "code",
   "execution_count": 4,
   "outputs": [],
   "source": [
    "def get_plants_bboxes(path, template_path):\n",
    "    '''\n",
    "    Takes in the paths to the images, finds and returns the bounding boxes for each seed possible position\n",
    "    \n",
    "    Args:\n",
    "        path: path to a mask\n",
    "        template_path: path to the template with seeds positions\n",
    "\n",
    "    Returns:\n",
    "        an array with the y, y_max, x, x_max coordinates that represent the bounding boxes for each seed possible position\n",
    "    '''\n",
    "    \n",
    "    # load in images\n",
    "    mask = load_in_mask(path)\n",
    "    template = load_in_seedlings_template(template_path)\n",
    "    \n",
    "    # uncomment this and the last line if you want to see where the midpoints are\n",
    "    # template_reshaped = np.zeros_like(mask)\n",
    "\n",
    "    # resize and prepare the template (Valerian's way, not the most robust)\n",
    "    mask_seeding_position = cv2.resize(template, (mask.shape[1], mask.shape[0]))\n",
    "    mask_seeding_position[mask_seeding_position < 200] = 0\n",
    "    mask_seeding_position[mask_seeding_position != 0] = 255\n",
    "    \n",
    "    # segment the template to get the bounding boxes for each seed position\n",
    "    mask_seeding_position_label = skimage.measure.label(mask_seeding_position).astype('uint8')\n",
    "    _, template_segmented, stats, _ = cv2.connectedComponentsWithStats(mask_seeding_position_label)\n",
    "    \n",
    "    plants = []\n",
    "    \n",
    "    # loop through all the stats, get coordinates, transform them into y, y_max, x, x_max and append to an array\n",
    "    for segment in stats[1::]:\n",
    "        mid_x = (segment[0] * 2 + segment[2]) // 2\n",
    "        mid_y = (segment[1] * 2 + segment[3]) // 2\n",
    "        \n",
    "        plants.append([segment[1],segment[1]+segment[3], segment[0], segment[0]+segment[2]])\n",
    "        # template_reshaped = cv2.circle(template_reshaped,(mid_x,mid_y), 25, (255,255,255), -1)\n",
    "        \n",
    "    return  plants"
   ],
   "metadata": {
    "collapsed": false,
    "ExecuteTime": {
     "end_time": "2024-04-02T14:35:09.242727Z",
     "start_time": "2024-04-02T14:35:09.233577Z"
    }
   },
   "id": "2bcd5f5c3222d6ef"
  },
  {
   "cell_type": "code",
   "execution_count": 5,
   "outputs": [],
   "source": [
    "def determine_starting_nodes(branch):\n",
    "    '''\n",
    "    Determines all the starting points in the branch\n",
    "    Args:\n",
    "        branch: summarize(skeleton) \n",
    "\n",
    "    Returns:\n",
    "        an array with all the nodes-id that are starting points\n",
    "\n",
    "    '''\n",
    "    \n",
    "    # get uniques src and dst nodes\n",
    "    src_nodes = branch['node-id-src'].unique()\n",
    "    dst_nodes = branch['node-id-dst'].unique()\n",
    "    \n",
    "    starting_nodes = []\n",
    "    \n",
    "    # loop through all src nodes if it's not in dst nodes -> append to starting nodes array\n",
    "    for node in src_nodes:\n",
    "        if node not in dst_nodes:\n",
    "            starting_nodes.append(node)\n",
    "        \n",
    "    return starting_nodes"
   ],
   "metadata": {
    "collapsed": false,
    "ExecuteTime": {
     "end_time": "2024-04-02T14:35:09.243155Z",
     "start_time": "2024-04-02T14:35:09.236735Z"
    }
   },
   "id": "96212ab99b755373"
  },
  {
   "cell_type": "code",
   "execution_count": 6,
   "outputs": [],
   "source": [
    "def get_all_possible_start_nodes_for_each_plant(path, template_path, mask = None):\n",
    "    '''\n",
    "    Gets all the possible nodes that can be the start of the root per each plant and returns them in an array\n",
    "    Possible nodes - the highest starting points in the plants seeds bounding boxes\n",
    "    \n",
    "    Args:\n",
    "        path: same\n",
    "        template_path: same\n",
    "        mask: only the connected mask is passed (connected - all starting nodes are connected to the most central node) \n",
    "\n",
    "    Returns:\n",
    "        array of arrays with all the starting nodes belonging to the n's plant\n",
    "\n",
    "    '''\n",
    "    \n",
    "    # if mask is none, it's read from the path\n",
    "    # not none only in case if the mask is connected already \n",
    "    if mask is None:\n",
    "        \n",
    "        mask = load_in_mask(path)\n",
    "        mask = cv2.cvtColor(mask, cv2.COLOR_BGR2GRAY)\n",
    "        \n",
    "    \n",
    "    \n",
    "    # transform mask to the skeleton and then to the branch\n",
    "    mask_skeleton = skimage.morphology.skeletonize(mask)\n",
    "    mask_branch = summarize(Skeleton(mask_skeleton))\n",
    "    \n",
    "    # get all starting nodes and plants seeds bounding boxes\n",
    "    all_starting_nodes = determine_starting_nodes(mask_branch)\n",
    "    plants_bboxes = get_plants_bboxes(path, template_path)\n",
    "    \n",
    "    start_node_locations = [[],[],[],[],[]]\n",
    "\n",
    "    # for each node in starting nodes check if it belongs to any of the plants seeds bounding boxes -> append to the array\n",
    "    for node in all_starting_nodes:\n",
    "        x = mask_branch[mask_branch['node-id-src'] == node]['image-coord-src-1'].iloc[0]\n",
    "        y = mask_branch[mask_branch['node-id-src'] == node]['image-coord-src-0'].iloc[0]\n",
    "        \n",
    "        for i, plant in enumerate(plants_bboxes):\n",
    "            y1, y2, x1, x2 = plant\n",
    "            \n",
    "            if x1 < x and x2> x and y1 < y and y2 > y:\n",
    "                start_node_locations[i].append([x,y])\n",
    "\n",
    "\n",
    "    return start_node_locations"
   ],
   "metadata": {
    "collapsed": false,
    "ExecuteTime": {
     "end_time": "2024-04-02T14:35:09.244433Z",
     "start_time": "2024-04-02T14:35:09.241061Z"
    }
   },
   "id": "8a0342598b1a6c0c"
  },
  {
   "cell_type": "code",
   "execution_count": 7,
   "outputs": [],
   "source": [
    "def get_most_central_starting_node_for_each_plant(path, template_path, mask = None):\n",
    "    '''\n",
    "    Gets all the starting nodes for each plant and finds which one is the closest to the center of the bounding box for the plant and appends its coordinates, distance to the center to an array\n",
    "    Args:\n",
    "        path: same\n",
    "        template_path: same\n",
    "        mask: if none -> connected mask\n",
    "\n",
    "    Returns:\n",
    "        returns an array with the x, y, distance to the center of the bounding box for seed location of each plant\n",
    "    '''\n",
    "    \n",
    "    # get all starting nodes\n",
    "    start_node_locations = get_all_possible_start_nodes_for_each_plant(path, template_path, mask)\n",
    " \n",
    "    # get all the bounding boxes where the seeds of the plants can be located\n",
    "    plants_bboxes = get_plants_bboxes(path, template_path)\n",
    "    starting_nodes_coordinates = []\n",
    "    \n",
    "    # loop through all starting nodes \n",
    "    for i, nodes in enumerate(start_node_locations):\n",
    "        \n",
    "        x, y = 0, 0\n",
    "        \n",
    "        # if there is only one starting node save its coordinates and distance to the center of the box \n",
    "        if len(nodes) == 1:\n",
    "            \n",
    "            x, y = nodes[0]\n",
    "            y1, y2, x1, x2 = plants_bboxes[i]\n",
    "            mid_point_x = (x1 + x2) // 2\n",
    "            mid_point_y = (y1 + y2) // 2\n",
    "            distance = np.sqrt((mid_point_x - x) ** 2 + (mid_point_y - y) ** 2)\n",
    "        \n",
    "        # if len != 1 get bounding box for current plant by the index (number of plants == number of arrays with the starting nodes)    \n",
    "        else:\n",
    "            \n",
    "            # get the coordinates and midpoint coordinates of the bounding box for each plant seed postion\n",
    "            y1, y2, x1, x2 = plants_bboxes[i]\n",
    "            mid_point_x = (x1 + x2) // 2\n",
    "            mid_point_y = (y1 + y2) // 2\n",
    "            distance = 1000\n",
    "            \n",
    "            # for each starting point get its coordinates and distance to the center of the bounding box for the current plant\n",
    "            for node in nodes:\n",
    "                \n",
    "                x_n, y_n = node\n",
    "                distance_n = np.sqrt((mid_point_x - x_n) ** 2 + (mid_point_y - y_n) ** 2)\n",
    "                \n",
    "                # if the distance to center is lower than the lowest one add node to the array and replace the minimum distance with current distance (prevents adding all the starting nodes to the array)\n",
    "                if distance_n < distance:\n",
    "                    \n",
    "                    x, y = x_n, y_n\n",
    "                    distance = distance_n\n",
    "                \n",
    "        starting_nodes_coordinates.append((x,y, distance))\n",
    "    \n",
    "    return starting_nodes_coordinates"
   ],
   "metadata": {
    "collapsed": false,
    "ExecuteTime": {
     "end_time": "2024-04-02T14:35:09.260499Z",
     "start_time": "2024-04-02T14:35:09.242492Z"
    }
   },
   "id": "e05b1f4a9385980f"
  },
  {
   "cell_type": "code",
   "execution_count": 8,
   "outputs": [],
   "source": [
    "def connect_close_enough_starting_nodes(path, template_path):\n",
    "    '''\n",
    "        Loads in the mask, finds the most central starting nodes, connects them with all other starting nodes in the bounding box for each plant\n",
    "    Args:\n",
    "        path: same\n",
    "        template_path: same\n",
    "\n",
    "    Returns:\n",
    "        returns the connected mask\n",
    "    '''\n",
    "    \n",
    "    # load in the mask\n",
    "    mask = load_in_mask(path)\n",
    "    \n",
    "    # don't pay attention to this ik it's messed up, for now let's leave it like this\n",
    "    mask = cv2.cvtColor(mask, cv2.COLOR_BGR2GRAY)\n",
    "    mask = cv2.cvtColor(mask, cv2.COLOR_GRAY2RGB)\n",
    "    \n",
    "    # find all possible starting nodes for each plant\n",
    "    start_node_locations = get_all_possible_start_nodes_for_each_plant(path, template_path)\n",
    "    # find most central starting nodes for each plant (most central - closest to the bounding box where the seed can be located)\n",
    "    central_nodes_coordinates = get_most_central_starting_node_for_each_plant(path, template_path)\n",
    "    \n",
    "    # loop through all the starting nodes per plant\n",
    "    for i, nodes in enumerate(start_node_locations):\n",
    "        \n",
    "        # get the coordinates and the distance to center\n",
    "        x, y, distance = central_nodes_coordinates[i]\n",
    "        \n",
    "        # if more than one node is present\n",
    "        if len(nodes) > 1:\n",
    "            \n",
    "            #loop through all nodes\n",
    "            for node in nodes:\n",
    "                \n",
    "                # get coordinates of the node\n",
    "                x_n, y_n = node\n",
    "                # find the distance to the center from the node\n",
    "                distance_n = np.sqrt((x - x_n) ** 2 + (y - y_n) ** 2)\n",
    "                # if distance from central node to the current node is lower than the distance from the center to central node -> connect the node and central node\n",
    "                if distance_n < distance:\n",
    "                    mask = cv2.line(mask, (x,y), (x_n, y_n), (255, 255, 255), 5)\n",
    "    \n",
    "    return  mask"
   ],
   "metadata": {
    "collapsed": false,
    "ExecuteTime": {
     "end_time": "2024-04-02T14:35:09.589568Z",
     "start_time": "2024-04-02T14:35:09.569229Z"
    }
   },
   "id": "59a4cf48cc575c2e"
  },
  {
   "cell_type": "code",
   "execution_count": 9,
   "outputs": [],
   "source": [
    "def determine_primary_roots_locations(path, template_path):\n",
    "    '''\n",
    "        Based on the location of the bounding boxes in which the seeds are located gets a slice of the mask where the primary root is supposed to be (x min : x max, y min : bottom of the image) and returns the coordinates\n",
    "    Args:\n",
    "        path: same\n",
    "        template_path: same \n",
    "\n",
    "    Returns:\n",
    "        return\n",
    "    '''\n",
    "    \n",
    "    primary_roots_locations = []\n",
    "    \n",
    "    # get the bounding boxes where seeds can be located for each plant \n",
    "    plants = get_plants_bboxes(path, template_path)\n",
    "    \n",
    "    # loop through all the bounding boxes\n",
    "    for i in range(1, len(plants)+1):\n",
    "        \n",
    "        if i < len(plants):\n",
    "            \n",
    "            # get the coordinates of the previous plant bounding box \n",
    "            y1, y2, x1, x2 = plants[i-1]\n",
    "            # get the coordinates of the current plant bounding box ( only right bound is needed to find the slice that is needed)\n",
    "            _, _, x_right_bound, _ = plants[i]\n",
    "            # append the coordinates to the array (the right bound for each plant is the starting coordinate for the next plant -> width slice = from start point of the n's plant to start of the n + 1 plant )\n",
    "            primary_roots_locations.append([y1,x1,x_right_bound])\n",
    "        \n",
    "        # if it's the last plant the right bound is the right bound of its bounding box  \n",
    "        elif i == len(plants):\n",
    "            \n",
    "            y1, y2, x1, x2 = plants[i-1]\n",
    "            primary_roots_locations.append([y1,x1, x2])\n",
    "            \n",
    "    return primary_roots_locations"
   ],
   "metadata": {
    "collapsed": false,
    "ExecuteTime": {
     "end_time": "2024-04-02T14:35:09.694603Z",
     "start_time": "2024-04-02T14:35:09.692414Z"
    }
   },
   "id": "a52d1dff6ce39b4d"
  },
  {
   "cell_type": "code",
   "execution_count": 10,
   "outputs": [],
   "source": [
    "def draw_root(coordinates, image, x_offset, y_offset, colour):\n",
    "    \n",
    "    '''\n",
    "    \n",
    "    Args:\n",
    "        coordinates: array of (y, x) coordinates that has to be visualised\n",
    "        image: image for visualisation\n",
    "        x_offset: left bound for the current plant - used to draw on the real image using the coordinates from the sliced image that focuses on a certain plant\n",
    "        y_offset: top bound for the current plant -  used to draw on the real image using the coordinates from the sliced image that focuses on a certain plant\n",
    "        colour: colour with which to draw\n",
    "\n",
    "    Returns:\n",
    "        returns image where the given coordinates are highlighted with the provided colour\n",
    "    '''\n",
    "    \n",
    "    # loop through all the coordinates pairs and visualise them\n",
    "    for coordinates_pair in coordinates:\n",
    "        image[coordinates_pair[0] + y_offset, coordinates_pair[1] + x_offset] = colour\n",
    "        \n",
    "    return image"
   ],
   "metadata": {
    "collapsed": false,
    "ExecuteTime": {
     "end_time": "2024-04-02T14:35:09.896079Z",
     "start_time": "2024-04-02T14:35:09.879277Z"
    }
   },
   "id": "3c81ac178c3023e7"
  },
  {
   "cell_type": "code",
   "execution_count": 11,
   "outputs": [],
   "source": [
    "def prepare_data_for_segmentation(path, template_path):\n",
    "    '''\n",
    "         Function prepares all the data for the segmentation:\n",
    "            primary_root - clear image for primary root visulisation\n",
    "            skeleton - clear image for all roots visualisation\n",
    "            primary_root_locations - array with the coordinates to slice image and focus on each plant primary root\n",
    "            start_node_coordinates - array with the coordinates of the most central starting coordinates for each plant\n",
    "            plant_bboxes - bounding boxes representing the possible locations for seed per each plant\n",
    "            connected_mask - mask where all the starting nodes that are close enough to the central node for each plant are connected\n",
    "    Args:\n",
    "        path: same\n",
    "        template_path: same\n",
    " \n",
    "    Returns:\n",
    "\n",
    "    '''\n",
    "    \n",
    "    # load in the mask\n",
    "    mask = load_in_mask(path)\n",
    "    # create empty image to draw the primary root\n",
    "    primary_root = np.zeros_like(mask)\n",
    "    # create empty image to draw all the roots\n",
    "    skeleton = np.zeros_like(mask)\n",
    "    \n",
    "    # get the coordinates that are used to slice the image and focus on each primary root\n",
    "    primary_roots_locations = determine_primary_roots_locations(path, template_path)\n",
    "    \n",
    "    # get connected mask and transform it to binary for a more accurate skeleton\n",
    "    connected_mask = connect_close_enough_starting_nodes(path, template_path)\n",
    "    connected_mask = cv2.cvtColor(connected_mask, cv2.COLOR_BGR2GRAY)\n",
    "    connected_mask = ((connected_mask > 0) * 1).astype('uint8')\n",
    "    \n",
    "    # get the starting node that is the closest to the center of the bounding box which represents the possible seed location\n",
    "    start_node_coordinates = get_most_central_starting_node_for_each_plant(path, template_path, mask = connected_mask)\n",
    "    # get bounding boxes for each plant possible seed location\n",
    "    plants_bboxes = get_plants_bboxes(path, template_path)\n",
    "    \n",
    "    return primary_root, skeleton, primary_roots_locations, start_node_coordinates, plants_bboxes, connected_mask"
   ],
   "metadata": {
    "collapsed": false,
    "ExecuteTime": {
     "end_time": "2024-04-02T14:35:10.570283Z",
     "start_time": "2024-04-02T14:35:10.551162Z"
    }
   },
   "id": "84d6fdbedcb7032c"
  },
  {
   "cell_type": "code",
   "execution_count": 12,
   "outputs": [],
   "source": [
    "def segmentation(path, template_path):\n",
    "    '''\n",
    "    \n",
    "    Segments root structures from an image based on a provided template.\n",
    "        \n",
    "        The function works through several steps:\n",
    "        1. Preparing data: It first prepares the data by extracting necessary components like the root\n",
    "           locations, bounding boxes, and mask of the root system.\n",
    "        2. Processing each plant: For each detected plant, it processes subsets of the mask to identify\n",
    "           root structures.\n",
    "        3. Skeletonization: Applies skeletonization to simplify the root structures into minimal\n",
    "           representations.\n",
    "        4. Graph construction: Constructs a graph from the skeletonized image to represent the root\n",
    "           structures.\n",
    "        5. Path finding: Uses Dijkstra's algorithm to find the longest path in the graph, representing\n",
    "           the primary root.\n",
    "        6. Visualization: Draws the identified primary roots and updates the distances list.\n",
    "        \n",
    "        Parameters:\n",
    "        - path (str): The file path to the image to be processed.\n",
    "        - template (str): path to the template\n",
    "        \n",
    "        Returns:\n",
    "        - primary_root (ndarray): The image with primary roots highlighted.\n",
    "        - skeleton (ndarray): The skeletonized image of the root system.\n",
    "        - distances (list): A list of distances along the primary root paths.\n",
    "        \n",
    "\n",
    "    '''\n",
    "      \n",
    "    distances = []\n",
    "    # prepare needed data\n",
    "    primary_root, skeleton, primary_roots_locations, start_node_coordinates, plants_bboxes, mask = prepare_data_for_segmentation(path, template_path)\n",
    "    \n",
    "    # loop through all the primary roots locations\n",
    "    for i, plant in enumerate(primary_roots_locations):\n",
    "        \n",
    "        # slice the image to examine only primary roots (if it's the last plant the slice left bound = the end of the image)\n",
    "        if i != 4:\n",
    "            mask_subset = mask[plant[0]::, plant[1]:plant[2]]\n",
    "        else:\n",
    "            mask_subset = mask[plant[0]::, plant[1]::]\n",
    "        \n",
    "        #skeletonize mask and get a branch\n",
    "        mask_subset_skeleton = skimage.morphology.skeletonize(mask_subset)\n",
    "        if len(np.unique(mask_subset_skeleton)) > 1:\n",
    "            mask_subset_skeleton_ob = Skeleton(mask_subset_skeleton)\n",
    "            mask_subset_branch = summarize(mask_subset_skeleton_ob)\n",
    "            \n",
    "            # get offset for the coordinates to visualise everything on the input image using the coordinates from the slice\n",
    "            offset_y, _, offset_x, _ = plants_bboxes[i]\n",
    "            # get the coordinates of the root start for the current plant\n",
    "            start_x, start_y, _ = start_node_coordinates[i]\n",
    "            \n",
    "            # transform root start coordinates from the input image to the slice coordinates by substracting the offset\n",
    "            start_x -= offset_x\n",
    "            start_y -= offset_y\n",
    "            \n",
    "            # get all the end points that can be possible tips of the primary roots and reverse the id, so we go from bottom to top\n",
    "            unique_last_nodes = mask_subset_branch['node-id-dst'].unique()[::-1]\n",
    "            end_points = []\n",
    "            for item in unique_last_nodes:\n",
    "                if item not in mask_subset_branch['node-id-src'].unique():\n",
    "                    end_points.append(item)\n",
    "            \n",
    "            # if there is no such starting node present in the branch skip this plant \n",
    "            if len(mask_subset_branch[(mask_subset_branch['image-coord-src-0'] == start_y) & (mask_subset_branch['image-coord-src-1'] == start_x)]['node-id-src']) == 0:\n",
    "                continue\n",
    "            # else get the node id by the y and x coordinates\n",
    "            start_node_id = mask_subset_branch[(mask_subset_branch['image-coord-src-0'] == start_y) & (mask_subset_branch['image-coord-src-1'] == start_x)]['node-id-src'].iloc[0]\n",
    "            \n",
    "            #tranform the branch into nx graph\n",
    "            G = nx.from_pandas_edgelist(mask_subset_branch, source='node-id-src', target='node-id-dst', edge_attr='branch-distance')\n",
    "            #get the last node - assume that it's the tip of the primary root for now\n",
    "            last_node = max(G.nodes())\n",
    "            \n",
    "            # sort the nodes list to go from bottom to top\n",
    "            un_sorted_nodes = list(G.nodes())\n",
    "            sorted_nodes = sorted(un_sorted_nodes)\n",
    "            \n",
    "            #index for current node\n",
    "            node_count = -1\n",
    "            distance = 0\n",
    "            \n",
    "            # while distance is 0 loop through all nodes to find the first that is connected to the starting node and save the distance\n",
    "            while distance == 0:\n",
    "        \n",
    "                node_count -= 1\n",
    "                if nx.has_path(G, start_node_id, last_node):\n",
    "                    distance =  nx.dijkstra_path_length(G, start_node_id, last_node, weight='branch-distance')\n",
    "                else:\n",
    "                    last_node = sorted_nodes[node_count]\n",
    "                \n",
    "            \n",
    "            # if the connection is found\n",
    "            if distance!=0:\n",
    "                \n",
    "                # get the shortest path from the starting point to the end point\n",
    "                path = nx.dijkstra_path(G, source=start_node_id, target=last_node, weight='branch-distance')\n",
    "                \n",
    "                # loop through the branch to visualise the root system and if the node is in the path viasualise it as a primary root\n",
    "                for i in range(len(mask_subset_branch)):\n",
    "                    end_node = mask_subset_branch[\"node-id-dst\"].iloc[i]\n",
    "                    yx = mask_subset_skeleton_ob.path_coordinates(i)\n",
    "                    \n",
    "                    skeleton = draw_root(yx, skeleton, offset_x, offset_y, (255, 255, 255))\n",
    "                   \n",
    "                    if end_node in path:\n",
    "                        primary_root = draw_root(yx, primary_root, offset_x, offset_y, (0, 255, 0))\n",
    "                    \n",
    "            distances.append(distance)\n",
    "        \n",
    "    return primary_root, skeleton, distances"
   ],
   "metadata": {
    "collapsed": false,
    "ExecuteTime": {
     "end_time": "2024-04-02T14:35:10.917074Z",
     "start_time": "2024-04-02T14:35:10.902674Z"
    }
   },
   "id": "2bf5b3afe558b4db"
  },
  {
   "cell_type": "code",
   "execution_count": 13,
   "outputs": [],
   "source": [
    "def colour_lateral_roots_based_on_starting_point(primary, lateral):\n",
    "    '''\n",
    "    \n",
    "    Should be changed as this was a test of an idea if you need more explanation hmu \n",
    "    \n",
    "    P.S. didn't have enough time and will to explain this one as we are going to change it completely xd\n",
    "\n",
    "    '''\n",
    "    primary_r_bin = cv2.cvtColor(primary, cv2.COLOR_RGB2GRAY)\n",
    "    full_skeleton = cv2.cvtColor(lateral, cv2.COLOR_RGB2GRAY)\n",
    "    \n",
    "    bin = cv2.bitwise_xor(primary_r_bin, full_skeleton)\n",
    "    lateral_r = ((bin > 250)*255).astype('uint8')\n",
    "    if len(np.unique(lateral_r)) > 1:\n",
    "        lateral_skeleton = Skeleton(lateral_r)\n",
    "        lateral_branch = summarize(lateral_skeleton)\n",
    "        \n",
    "        lateral_r = cv2.cvtColor(lateral_r, cv2.COLOR_GRAY2RGB)\n",
    "        \n",
    "        colours = [\n",
    "            (255, 0, 0),\n",
    "            (255, 0, 255),\n",
    "            (0, 0, 255),\n",
    "            (255, 255, 0),\n",
    "            (0, 255, 255)\n",
    "        ]\n",
    "        \n",
    "        segmented_roots_p1 = np.zeros_like(lateral_r)\n",
    "        \n",
    "        G_lat = nx.from_pandas_edgelist(lateral_branch, source='node-id-src', target='node-id-dst', edge_attr='branch-distance')\n",
    "        \n",
    "        for i in range(len(lateral_branch)-1):\n",
    "            start_node = lateral_branch['node-id-src'].iloc[i]\n",
    "            end_node = lateral_branch['node-id-dst'].iloc[i]\n",
    "            \n",
    "            path = nx.dijkstra_path(G_lat, start_node, end_node)\n",
    "            \n",
    "            \n",
    "            if len(path) == 2:\n",
    "                \n",
    "                colour = []\n",
    "                x = lateral_branch['image-coord-src-1'].iloc[i]\n",
    "                plants_subsets = [1438, 1978, 2517, 3055, 4000]\n",
    "                \n",
    "                for j, subset in enumerate(plants_subsets):\n",
    "                    \n",
    "                    if x < subset and colour == []:\n",
    "       \n",
    "                        colour = colours[j]\n",
    "                        \n",
    "                if not colour:\n",
    "                    \n",
    "                    colour = colours[-1]\n",
    "                        \n",
    "                for k in range(len(lateral_branch)):\n",
    "                    s_node = lateral_branch[\"node-id-src\"].iloc[k]\n",
    "                    e_node = lateral_branch[\"node-id-dst\"].iloc[k]\n",
    "                    yx = lateral_skeleton.path_coordinates(k)\n",
    "                    \n",
    "                    if start_node in path and e_node in path:\n",
    "                        \n",
    "                        segmented_roots_p1 = draw_root(yx, segmented_roots_p1, 0, 0, colour)\n",
    "        \n",
    "        return  segmented_roots_p1\n",
    "    \n",
    "    else:\n",
    "        return  np.zeros_like((lateral_r.shape[0], lateral_r.shape[1],3))"
   ],
   "metadata": {
    "collapsed": false,
    "ExecuteTime": {
     "end_time": "2024-04-02T14:35:11.139089Z",
     "start_time": "2024-04-02T14:35:11.123039Z"
    }
   },
   "id": "ea68e6853073cb1c"
  },
  {
   "cell_type": "code",
   "execution_count": 14,
   "outputs": [
    {
     "name": "stderr",
     "output_type": "stream",
     "text": [
      "  0%|          | 0/9 [00:00<?, ?it/s]"
     ]
    },
    {
     "name": "stdout",
     "output_type": "stream",
     "text": [
      "43-17-ROOT1-2023-08-08_pvd_OD001_f6h1_02-Fish Eye Corrected\n"
     ]
    },
    {
     "name": "stderr",
     "output_type": "stream",
     "text": [
      " 11%|█         | 1/9 [00:04<00:35,  4.45s/it]"
     ]
    },
    {
     "name": "stdout",
     "output_type": "stream",
     "text": [
      "[408.19595949289356, 1280.4579361637693, 2187.638743755013, 722.203102167831, 756.6467529817264]\n",
      "43-1-ROOT1-2023-08-08_pvd_OD001_f6h1_02-Fish Eye Corrected\n"
     ]
    },
    {
     "name": "stderr",
     "output_type": "stream",
     "text": [
      " 22%|██▏       | 2/9 [00:06<00:22,  3.22s/it]"
     ]
    },
    {
     "name": "stdout",
     "output_type": "stream",
     "text": [
      "[10.82842712474619]\n",
      "43-6-ROOT1-2023-08-08_pvd_OD001_f6h1_02-Fish Eye Corrected\n"
     ]
    },
    {
     "name": "stderr",
     "output_type": "stream",
     "text": [
      " 33%|███▎      | 3/9 [00:08<00:16,  2.71s/it]"
     ]
    },
    {
     "name": "stdout",
     "output_type": "stream",
     "text": [
      "[110.14213562373094, 137.1126983722081, 224.18376618407368, 85.31370849898475, 191.698484809835]\n",
      "43-18-ROOT1-2023-08-08_pvd_OD001_f6h1_02-Fish Eye Corrected\n"
     ]
    },
    {
     "name": "stderr",
     "output_type": "stream",
     "text": [
      " 44%|████▍     | 4/9 [00:12<00:14,  2.95s/it]"
     ]
    },
    {
     "name": "stdout",
     "output_type": "stream",
     "text": [
      "[937.3940110268417, 1844.2640687119285, 2413.2783540618007, 122.56854249492372, 303.5462479183382]\n",
      "43-11-ROOT1-2023-08-08_pvd_OD001_f6h1_02-Fish Eye Corrected\n"
     ]
    },
    {
     "name": "stderr",
     "output_type": "stream",
     "text": [
      " 56%|█████▌    | 5/9 [00:14<00:11,  2.78s/it]"
     ]
    },
    {
     "name": "stdout",
     "output_type": "stream",
     "text": [
      "[132.55634918610406, 211.18376618407362, 623.4802307403555, 100.89949493661166, 472.16652224137107]\n",
      "43-2-ROOT1-2023-08-08_pvd_OD001_f6h1_02-Fish Eye Corrected\n"
     ]
    },
    {
     "name": "stderr",
     "output_type": "stream",
     "text": [
      " 67%|██████▋   | 6/9 [00:16<00:07,  2.52s/it]"
     ]
    },
    {
     "name": "stdout",
     "output_type": "stream",
     "text": [
      "[28.65685424949238, 29.07106781186548, 3.8284271247461903, 37.656854249492376]\n",
      "43-14-ROOT1-2023-08-08_pvd_OD001_f6h1_02-Fish Eye Corrected\n"
     ]
    },
    {
     "name": "stderr",
     "output_type": "stream",
     "text": [
      " 78%|███████▊  | 7/9 [00:19<00:05,  2.52s/it]"
     ]
    },
    {
     "name": "stdout",
     "output_type": "stream",
     "text": [
      "[134.79898987322332, 566.03657992646, 1515.6244584051408, 95.31370849898475, 694.8843430349625]\n",
      "43-13-ROOT1-2023-08-08_pvd_OD001_f6h1_02-Fish Eye Corrected\n"
     ]
    },
    {
     "name": "stderr",
     "output_type": "stream",
     "text": [
      " 89%|████████▉ | 8/9 [00:21<00:02,  2.52s/it]"
     ]
    },
    {
     "name": "stdout",
     "output_type": "stream",
     "text": [
      "[135.14213562373095, 258.0121933088198, 847.7350647362947, 100.97056274847712, 487.58073580374366]\n",
      "43-19-ROOT1-2023-08-08_pvd_OD001_f6h1_02-Fish Eye Corrected\n",
      "[1116.6051224213834, 1963.0264786586927, 2344.621499812309, 785.416305603426, 306.47518010647264]\n"
     ]
    },
    {
     "name": "stderr",
     "output_type": "stream",
     "text": [
      "100%|██████████| 9/9 [00:27<00:00,  3.07s/it]\n"
     ]
    }
   ],
   "source": [
    "for path in tqdm(glob.glob('/Users/work_uni/Documents/GitHub/AIxPlant_Science/overlapping_roots/final_pipeline_masks/masks/*.png')):\n",
    "    mask_path = path\n",
    "    image_name = mask_path[mask_path.rfind('/')+1:mask_path.rfind('_root')]\n",
    "    seeds_path = \"seeding_template.tif\"\n",
    "    print(image_name)\n",
    "\n",
    "    mask_trr = load_in_mask(mask_path)\n",
    "    primary_root, all_roots_skeleton, dst = segmentation(mask_path, seeds_path)\n",
    "    segmented_roots = colour_lateral_roots_based_on_starting_point(primary_root, all_roots_skeleton)\n",
    "    img = cv2.imread(\n",
    "    f'/Users/work_uni/Documents/GitHub/AIxPlant_Science/overlapping_roots/final_pipeline_masks/input_images/{image_name}_original_padded.png')\n",
    "    result = cv2.addWeighted(img, 0.75, primary_root, 0.75, 0)\n",
    "    if len(np.unique(segmented_roots)) > 1:\n",
    "        result = cv2.addWeighted(result, 1, segmented_roots, 0.75, 0)\n",
    "    print(dst)\n",
    "    cv2.imwrite(f'/Users/work_uni/Documents/GitHub/AIxPlant_Science/overlapping_roots/final_pipeline_masks/output/{image_name}_segmented.png', result)"
   ],
   "metadata": {
    "collapsed": false,
    "ExecuteTime": {
     "end_time": "2024-04-02T14:35:38.936803Z",
     "start_time": "2024-04-02T14:35:11.301299Z"
    }
   },
   "id": "6f8cdf7324a3ac91"
  },
  {
   "cell_type": "code",
   "execution_count": null,
   "outputs": [],
   "source": [],
   "metadata": {
    "collapsed": false,
    "ExecuteTime": {
     "start_time": "2024-04-02T14:32:12.859128Z"
    }
   },
   "id": "dfb0dd617caa590d"
  },
  {
   "cell_type": "code",
   "execution_count": null,
   "outputs": [],
   "source": [],
   "metadata": {
    "collapsed": false
   },
   "id": "ac5e1f56f0520bcb"
  }
 ],
 "metadata": {
  "kernelspec": {
   "display_name": "Python 3",
   "language": "python",
   "name": "python3"
  },
  "language_info": {
   "codemirror_mode": {
    "name": "ipython",
    "version": 2
   },
   "file_extension": ".py",
   "mimetype": "text/x-python",
   "name": "python",
   "nbconvert_exporter": "python",
   "pygments_lexer": "ipython2",
   "version": "2.7.6"
  }
 },
 "nbformat": 4,
 "nbformat_minor": 5
}
