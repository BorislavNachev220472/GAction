{
 "cells": [
  {
   "cell_type": "code",
   "execution_count": 1,
   "metadata": {
    "ExecuteTime": {
     "end_time": "2024-02-22T17:27:41.017295Z",
     "start_time": "2024-02-22T17:27:40.512760Z"
    }
   },
   "outputs": [],
   "source": [
    "import skimage\n",
    "import matplotlib.pyplot as plt\n",
    "import numpy as np\n",
    "import random\n",
    "from scipy.ndimage import binary_dilation"
   ]
  },
  {
   "cell_type": "code",
   "execution_count": 2,
   "metadata": {
    "ExecuteTime": {
     "end_time": "2024-02-22T17:27:41.023523Z",
     "start_time": "2024-02-22T17:27:41.019042Z"
    }
   },
   "outputs": [],
   "source": [
    "root_growth_directions = ((0, -1), (1, -1), (1, 0), (1, 1), (0, 1)) # W, SW, S, SE, E\n",
    "\n",
    "pr_growth_weights = [1, 4, 8, 4, 1]\n",
    "llr_growth_weights = [4, 8, 4, 0.1, 0.1]\n",
    "rlr_growth_weights = [0.1, 0.1, 4, 8, 4]"
   ]
  },
  {
   "cell_type": "code",
   "execution_count": 3,
   "metadata": {
    "ExecuteTime": {
     "end_time": "2024-02-22T17:27:41.024703Z",
     "start_time": "2024-02-22T17:27:41.022436Z"
    }
   },
   "outputs": [],
   "source": [
    "def root_grower(img, directions, start):\n",
    "    root_coordinates = [start]\n",
    "    patch_size = img.shape[0]\n",
    "    for growth_direction in directions:\n",
    "        end = (start[0] + growth_direction[0], start[1] + growth_direction[1])\n",
    "        if 0 <= end[0] < patch_size and 0 <= end[1] < patch_size:\n",
    "            img[end[0], end[1]] = 1\n",
    "            root_coordinates.append(end)\n",
    "            start = end\n",
    "        else:\n",
    "            break\n",
    "    return img, root_coordinates"
   ]
  },
  {
   "cell_type": "code",
   "execution_count": 4,
   "metadata": {
    "ExecuteTime": {
     "end_time": "2024-02-22T17:27:41.030606Z",
     "start_time": "2024-02-22T17:27:41.027174Z"
    }
   },
   "outputs": [],
   "source": [
    "def root_mask_simulator(patch_size):\n",
    "    pr_len = np.random.randint(100, 500)\n",
    "    lr_len = pr_len // 2\n",
    "    step_size = 3\n",
    "\n",
    "    img = np.zeros((patch_size, patch_size), dtype=np.uint8)\n",
    "\n",
    "    pr_start = [np.random.randint(0+5, patch_size//2), np.random.randint(0+10, patch_size-10)]\n",
    "    img[pr_start[0], pr_start[1]] = 1\n",
    "\n",
    "    pr_growth_directions = random.choices(root_growth_directions, weights=pr_growth_weights, k=pr_len//step_size)\n",
    "    pr_growth_directions = [element for element in pr_growth_directions for _ in range(step_size)]\n",
    "\n",
    "    img, pr_root_coordinates = root_grower(img, pr_growth_directions, pr_start)\n",
    "\n",
    "    llr_start = pr_root_coordinates[len(pr_root_coordinates)//5]\n",
    "    llr_growth_directions = random.choices(root_growth_directions, weights=llr_growth_weights, k=lr_len//step_size)\n",
    "    llr_growth_directions = [element for element in llr_growth_directions for _ in range(step_size)]\n",
    "    img, llr_root_coordinates = root_grower(img, llr_growth_directions, llr_start)\n",
    "\n",
    "    rlr_start = pr_root_coordinates[len(pr_root_coordinates)//2]\n",
    "    rlr_growth_directions = random.choices(root_growth_directions, weights=rlr_growth_weights, k=lr_len//step_size)\n",
    "    rlr_growth_directions = [element for element in rlr_growth_directions for _ in range(step_size)]\n",
    "    img, rlr_root_coordinates = root_grower(img, rlr_growth_directions, rlr_start)\n",
    "\n",
    "    # dilate skeleton to obtain root mask\n",
    "    img = binary_dilation(img, iterations=2)\n",
    "\n",
    "    return img, pr_root_coordinates, llr_root_coordinates, rlr_root_coordinates"
   ]
  },
  {
   "cell_type": "code",
   "execution_count": 5,
   "metadata": {
    "ExecuteTime": {
     "end_time": "2024-02-22T17:27:41.036875Z",
     "start_time": "2024-02-22T17:27:41.031386Z"
    }
   },
   "outputs": [],
   "source": [
    "def get_potential_occlusion_centers(pr_root_coordinates, llr_root_coordinates, rlr_root_coordinates, margin=10):\n",
    "    potential_occlusion_centers = pr_root_coordinates[margin:-margin] + llr_root_coordinates[margin:-margin] + rlr_root_coordinates[margin:-margin]\n",
    "    return list(set(potential_occlusion_centers))"
   ]
  },
  {
   "cell_type": "code",
   "execution_count": 6,
   "metadata": {
    "ExecuteTime": {
     "end_time": "2024-02-22T17:27:41.037198Z",
     "start_time": "2024-02-22T17:27:41.035021Z"
    }
   },
   "outputs": [],
   "source": [
    "def occluder(img, potential_occlusion_centers, max_num_occ, max_size_occ):\n",
    "    occluded_img = img.copy()\n",
    "    number_of_occlusions = np.random.randint(0, max_num_occ+1)\n",
    "    size_of_occlusions = np.random.randint(0, max_size_occ+1, number_of_occlusions)\n",
    "    if len(potential_occlusion_centers) >= number_of_occlusions:\n",
    "        occlusion_centers = random.sample(potential_occlusion_centers, number_of_occlusions)\n",
    "    else:\n",
    "        occlusion_centers = random.sample(potential_occlusion_centers, len(potential_occlusion_centers)-1)\n",
    "    for i in range(number_of_occlusions):\n",
    "            size = size_of_occlusions[i]\n",
    "            center = occlusion_centers[i]\n",
    "            occluded_img[center[0]-size//2:center[0]+size//2, center[1]-size//2:center[1]+size//2] = 0\n",
    "\n",
    "    return occluded_img"
   ]
  },
  {
   "cell_type": "code",
   "execution_count": 7,
   "metadata": {
    "ExecuteTime": {
     "end_time": "2024-02-22T17:27:41.206534Z",
     "start_time": "2024-02-22T17:27:41.039760Z"
    }
   },
   "outputs": [
    {
     "data": {
      "text/plain": "Text(0.5, 1.0, 'Root Mask + Occlusion')"
     },
     "execution_count": 7,
     "metadata": {},
     "output_type": "execute_result"
    },
    {
     "data": {
      "text/plain": "<Figure size 640x480 with 2 Axes>",
      "image/png": "[encoded data removed]"
     },
     "metadata": {},
     "output_type": "display_data"
    }
   ],
   "source": [
    "img, pr_root_coordinates, llr_root_coordinates, rlr_root_coordinates = root_mask_simulator(patch_size=256)\n",
    "potential_occlusion_centers = get_potential_occlusion_centers(pr_root_coordinates, llr_root_coordinates, rlr_root_coordinates)\n",
    "occluded_img = occluder(img, potential_occlusion_centers, max_num_occ=5, max_size_occ=20)\n",
    "f, ax = plt.subplots(1, 2)\n",
    "ax[0].imshow(img, cmap='gray')\n",
    "ax[0].set_title('Root Mask')\n",
    "ax[1].imshow(occluded_img, cmap='gray')\n",
    "ax[1].set_title('Root Mask + Occlusion')"
   ]
  },
  {
   "cell_type": "code",
   "execution_count": 8,
   "metadata": {
    "ExecuteTime": {
     "end_time": "2024-02-22T17:27:41.303625Z",
     "start_time": "2024-02-22T17:27:41.288125Z"
    }
   },
   "outputs": [],
   "source": [
    "def root_data_generator(batch_size, patch_size, max_num_occ, max_size_occ):\n",
    "    while True:  # Loop indefinitely\n",
    "        batch_images = []\n",
    "        batch_labels = []\n",
    "\n",
    "        for i in range(batch_size):\n",
    "            # Generate or load an image and its label here\n",
    "            # For demonstration, we'll just use random data\n",
    "            label, pr_root_coordinates, llr_root_coordinates, rlr_root_coordinates = root_mask_simulator(patch_size)\n",
    "            potential_occlusion_centers = get_potential_occlusion_centers(pr_root_coordinates, llr_root_coordinates, rlr_root_coordinates)\n",
    "            image = occluder(label, potential_occlusion_centers, max_num_occ, max_size_occ)\n",
    "\n",
    "            batch_images.append(image)\n",
    "            batch_labels.append(label)\n",
    "\n",
    "        batch_images = np.array(batch_images)\n",
    "        batch_labels = np.array(batch_labels)\n",
    "\n",
    "        yield batch_images, batch_labels"
   ]
  },
  {
   "cell_type": "code",
   "execution_count": 9,
   "metadata": {
    "ExecuteTime": {
     "end_time": "2024-02-22T17:27:41.865907Z",
     "start_time": "2024-02-22T17:27:41.862643Z"
    }
   },
   "outputs": [],
   "source": [
    "batch_size = 32\n",
    "patch_size = 256\n",
    "max_num_occ = 5\n",
    "max_size_occ = 20\n",
    "train_generator = root_data_generator(batch_size, patch_size, max_num_occ, max_size_occ)"
   ]
  },
  {
   "cell_type": "code",
   "execution_count": 10,
   "metadata": {
    "ExecuteTime": {
     "end_time": "2024-02-22T17:27:42.283577Z",
     "start_time": "2024-02-22T17:27:42.255132Z"
    }
   },
   "outputs": [],
   "source": [
    "X, y = next(train_generator)"
   ]
  },
  {
   "cell_type": "code",
   "execution_count": 11,
   "metadata": {
    "ExecuteTime": {
     "end_time": "2024-02-22T17:27:42.753385Z",
     "start_time": "2024-02-22T17:27:42.667454Z"
    }
   },
   "outputs": [
    {
     "data": {
      "text/plain": "<matplotlib.image.AxesImage at 0x15a4cc0a0>"
     },
     "execution_count": 11,
     "metadata": {},
     "output_type": "execute_result"
    },
    {
     "data": {
      "text/plain": "<Figure size 640x480 with 2 Axes>",
      "image/png": "[encoded data removed]"
     },
     "metadata": {},
     "output_type": "display_data"
    }
   ],
   "source": [
    "f, ax = plt.subplots(1, 2)\n",
    "example_id = np.random.randint(0, batch_size)\n",
    "ax[0].imshow(X[example_id], cmap='gray')\n",
    "ax[1].imshow(y[example_id], cmap='gray')"
   ]
  },
  {
   "cell_type": "code",
   "execution_count": 12,
   "metadata": {
    "ExecuteTime": {
     "end_time": "2024-02-22T17:27:46.725023Z",
     "start_time": "2024-02-22T17:27:43.238262Z"
    }
   },
   "outputs": [],
   "source": [
    "import tensorflow as tf\n",
    "import keras.backend as K\n",
    "# Let's implement two custom metrics f1 score and iou\n",
    "def f1(y_true, y_pred):\n",
    "    def recall_m(y_true, y_pred):\n",
    "        TP = K.sum(K.round(K.clip(y_true * y_pred, 0, 1)))\n",
    "        Positives = K.sum(K.round(K.clip(y_true, 0, 1)))\n",
    "        recall = TP / (Positives+K.epsilon())\n",
    "        return recall\n",
    "    \n",
    "    def precision_m(y_true, y_pred):\n",
    "        TP = K.sum(K.round(K.clip(y_true * y_pred, 0, 1)))\n",
    "        Pred_Positives = K.sum(K.round(K.clip(y_pred, 0, 1)))\n",
    "        precision = TP / (Pred_Positives+K.epsilon())\n",
    "        return precision\n",
    "    \n",
    "    precision, recall = precision_m(y_true, y_pred), recall_m(y_true, y_pred)\n",
    "    \n",
    "    return 2*((precision*recall)/(precision+recall+K.epsilon()))"
   ]
  },
  {
   "cell_type": "code",
   "execution_count": 13,
   "metadata": {
    "ExecuteTime": {
     "end_time": "2024-02-22T17:27:46.734354Z",
     "start_time": "2024-02-22T17:27:46.733026Z"
    }
   },
   "outputs": [],
   "source": [
    "# U-Net model\n",
    "# Author: Sreenivas Bhattiprolu\n",
    "# This code is coming from the videos at the beginning\n",
    "from keras.models import Model\n",
    "import keras.backend as K\n",
    "from keras.layers import Input, Conv2D, MaxPooling2D, UpSampling2D, concatenate, Conv2DTranspose, BatchNormalization, Dropout, Lambda\n",
    "\n",
    "def simple_unet_model(IMG_HEIGHT, IMG_WIDTH, IMG_CHANNELS):\n",
    "# Build the model\n",
    "    inputs = Input((IMG_HEIGHT, IMG_WIDTH, IMG_CHANNELS))\n",
    "    s = inputs\n",
    "\n",
    "    # Contraction path\n",
    "    c1 = Conv2D(16, (3, 3), activation='relu', kernel_initializer='he_normal', padding='same')(s)\n",
    "    c1 = Dropout(0.1)(c1)\n",
    "    c1 = Conv2D(16, (3, 3), activation='relu', kernel_initializer='he_normal', padding='same')(c1)\n",
    "    p1 = MaxPooling2D((2, 2))(c1)\n",
    "    \n",
    "    c2 = Conv2D(32, (3, 3), activation='relu', kernel_initializer='he_normal', padding='same')(p1)\n",
    "    c2 = Dropout(0.1)(c2)\n",
    "    c2 = Conv2D(32, (3, 3), activation='relu', kernel_initializer='he_normal', padding='same')(c2)\n",
    "    p2 = MaxPooling2D((2, 2))(c2)\n",
    "     \n",
    "    c3 = Conv2D(64, (3, 3), activation='relu', kernel_initializer='he_normal', padding='same')(p2)\n",
    "    c3 = Dropout(0.2)(c3)\n",
    "    c3 = Conv2D(64, (3, 3), activation='relu', kernel_initializer='he_normal', padding='same')(c3)\n",
    "    p3 = MaxPooling2D((2, 2))(c3)\n",
    "     \n",
    "    c4 = Conv2D(128, (3, 3), activation='relu', kernel_initializer='he_normal', padding='same')(p3)\n",
    "    c4 = Dropout(0.2)(c4)\n",
    "    c4 = Conv2D(128, (3, 3), activation='relu', kernel_initializer='he_normal', padding='same')(c4)\n",
    "    p4 = MaxPooling2D(pool_size=(2, 2))(c4)\n",
    "     \n",
    "    c5 = Conv2D(256, (3, 3), activation='relu', kernel_initializer='he_normal', padding='same')(p4)\n",
    "    c5 = Dropout(0.3)(c5)\n",
    "    c5 = Conv2D(256, (3, 3), activation='relu', kernel_initializer='he_normal', padding='same')(c5)\n",
    "    \n",
    "    # Expansive path \n",
    "    u6 = Conv2DTranspose(128, (2, 2), strides=(2, 2), padding='same')(c5)\n",
    "    u6 = concatenate([u6, c4])\n",
    "    c6 = Conv2D(128, (3, 3), activation='relu', kernel_initializer='he_normal', padding='same')(u6)\n",
    "    c6 = Dropout(0.2)(c6)\n",
    "    c6 = Conv2D(128, (3, 3), activation='relu', kernel_initializer='he_normal', padding='same')(c6)\n",
    "     \n",
    "    u7 = Conv2DTranspose(64, (2, 2), strides=(2, 2), padding='same')(c6)\n",
    "    u7 = concatenate([u7, c3])\n",
    "    c7 = Conv2D(64, (3, 3), activation='relu', kernel_initializer='he_normal', padding='same')(u7)\n",
    "    c7 = Dropout(0.2)(c7)\n",
    "    c7 = Conv2D(64, (3, 3), activation='relu', kernel_initializer='he_normal', padding='same')(c7)\n",
    "     \n",
    "    u8 = Conv2DTranspose(32, (2, 2), strides=(2, 2), padding='same')(c7)\n",
    "    u8 = concatenate([u8, c2])\n",
    "    c8 = Conv2D(32, (3, 3), activation='relu', kernel_initializer='he_normal', padding='same')(u8)\n",
    "    c8 = Dropout(0.1)(c8)\n",
    "    c8 = Conv2D(32, (3, 3), activation='relu', kernel_initializer='he_normal', padding='same')(c8)\n",
    "     \n",
    "    u9 = Conv2DTranspose(16, (2, 2), strides=(2, 2), padding='same')(c8)\n",
    "    u9 = concatenate([u9, c1], axis=3)\n",
    "    c9 = Conv2D(16, (3, 3), activation='relu', kernel_initializer='he_normal', padding='same')(u9)\n",
    "    c9 = Dropout(0.1)(c9)\n",
    "    c9 = Conv2D(16, (3, 3), activation='relu', kernel_initializer='he_normal', padding='same')(c9)\n",
    "     \n",
    "    outputs = Conv2D(1, (1, 1), activation='sigmoid')(c9)\n",
    "     \n",
    "    model = Model(inputs=[inputs], outputs=[outputs])\n",
    "    model.compile(optimizer='adam', loss='binary_crossentropy', metrics=['accuracy', f1])\n",
    "    model.summary()\n",
    "    \n",
    "    return model"
   ]
  },
  {
   "cell_type": "code",
   "execution_count": 14,
   "metadata": {
    "ExecuteTime": {
     "end_time": "2024-02-22T17:27:49.683129Z",
     "start_time": "2024-02-22T17:27:46.735548Z"
    }
   },
   "outputs": [
    {
     "name": "stderr",
     "output_type": "stream",
     "text": [
      "2024-02-22 18:27:46.747116: I metal_plugin/src/device/metal_device.cc:1154] Metal device set to: Apple M1 Pro\n",
      "2024-02-22 18:27:46.747138: I metal_plugin/src/device/metal_device.cc:296] systemMemory: 16.00 GB\n",
      "2024-02-22 18:27:46.747143: I metal_plugin/src/device/metal_device.cc:313] maxCacheSize: 5.33 GB\n",
      "2024-02-22 18:27:46.747560: I tensorflow/core/common_runtime/pluggable_device/pluggable_device_factory.cc:303] Could not identify NUMA node of platform GPU ID 0, defaulting to 0. Your kernel may not have been built with NUMA support.\n",
      "2024-02-22 18:27:46.747806: I tensorflow/core/common_runtime/pluggable_device/pluggable_device_factory.cc:269] Created TensorFlow device (/job:localhost/replica:0/task:0/device:GPU:0 with 0 MB memory) -> physical PluggableDevice (device: 0, name: METAL, pci bus id: <undefined>)\n"
     ]
    },
    {
     "name": "stdout",
     "output_type": "stream",
     "text": [
      "Model: \"model\"\n",
      "__________________________________________________________________________________________________\n",
      " Layer (type)                Output Shape                 Param #   Connected to                  \n",
      "==================================================================================================\n",
      " input_1 (InputLayer)        [(None, 256, 256, 1)]        0         []                            \n",
      "                                                                                                  \n",
      " conv2d (Conv2D)             (None, 256, 256, 16)         160       ['input_1[0][0]']             \n",
      "                                                                                                  \n",
      " dropout (Dropout)           (None, 256, 256, 16)         0         ['conv2d[0][0]']              \n",
      "                                                                                                  \n",
      " conv2d_1 (Conv2D)           (None, 256, 256, 16)         2320      ['dropout[0][0]']             \n",
      "                                                                                                  \n",
      " max_pooling2d (MaxPooling2  (None, 128, 128, 16)         0         ['conv2d_1[0][0]']            \n",
      " D)                                                                                               \n",
      "                                                                                                  \n",
      " conv2d_2 (Conv2D)           (None, 128, 128, 32)         4640      ['max_pooling2d[0][0]']       \n",
      "                                                                                                  \n",
      " dropout_1 (Dropout)         (None, 128, 128, 32)         0         ['conv2d_2[0][0]']            \n",
      "                                                                                                  \n",
      " conv2d_3 (Conv2D)           (None, 128, 128, 32)         9248      ['dropout_1[0][0]']           \n",
      "                                                                                                  \n",
      " max_pooling2d_1 (MaxPoolin  (None, 64, 64, 32)           0         ['conv2d_3[0][0]']            \n",
      " g2D)                                                                                             \n",
      "                                                                                                  \n",
      " conv2d_4 (Conv2D)           (None, 64, 64, 64)           18496     ['max_pooling2d_1[0][0]']     \n",
      "                                                                                                  \n",
      " dropout_2 (Dropout)         (None, 64, 64, 64)           0         ['conv2d_4[0][0]']            \n",
      "                                                                                                  \n",
      " conv2d_5 (Conv2D)           (None, 64, 64, 64)           36928     ['dropout_2[0][0]']           \n",
      "                                                                                                  \n",
      " max_pooling2d_2 (MaxPoolin  (None, 32, 32, 64)           0         ['conv2d_5[0][0]']            \n",
      " g2D)                                                                                             \n",
      "                                                                                                  \n",
      " conv2d_6 (Conv2D)           (None, 32, 32, 128)          73856     ['max_pooling2d_2[0][0]']     \n",
      "                                                                                                  \n",
      " dropout_3 (Dropout)         (None, 32, 32, 128)          0         ['conv2d_6[0][0]']            \n",
      "                                                                                                  \n",
      " conv2d_7 (Conv2D)           (None, 32, 32, 128)          147584    ['dropout_3[0][0]']           \n",
      "                                                                                                  \n",
      " max_pooling2d_3 (MaxPoolin  (None, 16, 16, 128)          0         ['conv2d_7[0][0]']            \n",
      " g2D)                                                                                             \n",
      "                                                                                                  \n",
      " conv2d_8 (Conv2D)           (None, 16, 16, 256)          295168    ['max_pooling2d_3[0][0]']     \n",
      "                                                                                                  \n",
      " dropout_4 (Dropout)         (None, 16, 16, 256)          0         ['conv2d_8[0][0]']            \n",
      "                                                                                                  \n",
      " conv2d_9 (Conv2D)           (None, 16, 16, 256)          590080    ['dropout_4[0][0]']           \n",
      "                                                                                                  \n",
      " conv2d_transpose (Conv2DTr  (None, 32, 32, 128)          131200    ['conv2d_9[0][0]']            \n",
      " anspose)                                                                                         \n",
      "                                                                                                  \n",
      " concatenate (Concatenate)   (None, 32, 32, 256)          0         ['conv2d_transpose[0][0]',    \n",
      "                                                                     'conv2d_7[0][0]']            \n",
      "                                                                                                  \n",
      " conv2d_10 (Conv2D)          (None, 32, 32, 128)          295040    ['concatenate[0][0]']         \n",
      "                                                                                                  \n",
      " dropout_5 (Dropout)         (None, 32, 32, 128)          0         ['conv2d_10[0][0]']           \n",
      "                                                                                                  \n",
      " conv2d_11 (Conv2D)          (None, 32, 32, 128)          147584    ['dropout_5[0][0]']           \n",
      "                                                                                                  \n",
      " conv2d_transpose_1 (Conv2D  (None, 64, 64, 64)           32832     ['conv2d_11[0][0]']           \n",
      " Transpose)                                                                                       \n",
      "                                                                                                  \n",
      " concatenate_1 (Concatenate  (None, 64, 64, 128)          0         ['conv2d_transpose_1[0][0]',  \n",
      " )                                                                   'conv2d_5[0][0]']            \n",
      "                                                                                                  \n",
      " conv2d_12 (Conv2D)          (None, 64, 64, 64)           73792     ['concatenate_1[0][0]']       \n",
      "                                                                                                  \n",
      " dropout_6 (Dropout)         (None, 64, 64, 64)           0         ['conv2d_12[0][0]']           \n",
      "                                                                                                  \n",
      " conv2d_13 (Conv2D)          (None, 64, 64, 64)           36928     ['dropout_6[0][0]']           \n",
      "                                                                                                  \n",
      " conv2d_transpose_2 (Conv2D  (None, 128, 128, 32)         8224      ['conv2d_13[0][0]']           \n",
      " Transpose)                                                                                       \n",
      "                                                                                                  \n",
      " concatenate_2 (Concatenate  (None, 128, 128, 64)         0         ['conv2d_transpose_2[0][0]',  \n",
      " )                                                                   'conv2d_3[0][0]']            \n",
      "                                                                                                  \n",
      " conv2d_14 (Conv2D)          (None, 128, 128, 32)         18464     ['concatenate_2[0][0]']       \n",
      "                                                                                                  \n",
      " dropout_7 (Dropout)         (None, 128, 128, 32)         0         ['conv2d_14[0][0]']           \n",
      "                                                                                                  \n",
      " conv2d_15 (Conv2D)          (None, 128, 128, 32)         9248      ['dropout_7[0][0]']           \n",
      "                                                                                                  \n",
      " conv2d_transpose_3 (Conv2D  (None, 256, 256, 16)         2064      ['conv2d_15[0][0]']           \n",
      " Transpose)                                                                                       \n",
      "                                                                                                  \n",
      " concatenate_3 (Concatenate  (None, 256, 256, 32)         0         ['conv2d_transpose_3[0][0]',  \n",
      " )                                                                   'conv2d_1[0][0]']            \n",
      "                                                                                                  \n",
      " conv2d_16 (Conv2D)          (None, 256, 256, 16)         4624      ['concatenate_3[0][0]']       \n",
      "                                                                                                  \n",
      " dropout_8 (Dropout)         (None, 256, 256, 16)         0         ['conv2d_16[0][0]']           \n",
      "                                                                                                  \n",
      " conv2d_17 (Conv2D)          (None, 256, 256, 16)         2320      ['dropout_8[0][0]']           \n",
      "                                                                                                  \n",
      " conv2d_18 (Conv2D)          (None, 256, 256, 1)          17        ['conv2d_17[0][0]']           \n",
      "                                                                                                  \n",
      "==================================================================================================\n",
      "Total params: 1940817 (7.40 MB)\n",
      "Trainable params: 1940817 (7.40 MB)\n",
      "Non-trainable params: 0 (0.00 Byte)\n",
      "__________________________________________________________________________________________________\n"
     ]
    }
   ],
   "source": [
    "from keras.callbacks import EarlyStopping\n",
    "\n",
    "model = simple_unet_model(patch_size, patch_size, 1)\n",
    "\n",
    "cb = EarlyStopping(monitor='loss',\n",
    "                   patience=5,\n",
    "                   restore_best_weights='True',\n",
    "                   mode='min')"
   ]
  },
  {
   "cell_type": "code",
   "execution_count": 15,
   "metadata": {
    "ExecuteTime": {
     "end_time": "2024-02-22T17:39:57.169665Z",
     "start_time": "2024-02-22T17:27:49.685718Z"
    }
   },
   "outputs": [
    {
     "name": "stdout",
     "output_type": "stream",
     "text": [
      "Epoch 1/20\n"
     ]
    },
    {
     "name": "stderr",
     "output_type": "stream",
     "text": [
      "2024-02-22 18:27:51.169056: I tensorflow/core/grappler/optimizers/custom_graph_optimizer_registry.cc:114] Plugin optimizer for device_type GPU is enabled.\n"
     ]
    },
    {
     "name": "stdout",
     "output_type": "stream",
     "text": [
      "100/100 [==============================] - 52s 364ms/step - loss: 0.0523 - accuracy: 0.9898 - f1: 0.8592\n",
      "Epoch 2/20\n",
      "100/100 [==============================] - 36s 355ms/step - loss: 0.0052 - accuracy: 0.9980 - f1: 0.9649\n",
      "Epoch 3/20\n",
      "100/100 [==============================] - 36s 356ms/step - loss: 0.0036 - accuracy: 0.9984 - f1: 0.9710\n",
      "Epoch 4/20\n",
      "100/100 [==============================] - 36s 355ms/step - loss: 0.0031 - accuracy: 0.9986 - f1: 0.9748\n",
      "Epoch 5/20\n",
      "100/100 [==============================] - 36s 361ms/step - loss: 0.0028 - accuracy: 0.9988 - f1: 0.9785\n",
      "Epoch 6/20\n",
      "100/100 [==============================] - 36s 358ms/step - loss: 0.0025 - accuracy: 0.9989 - f1: 0.9813\n",
      "Epoch 7/20\n",
      "100/100 [==============================] - 36s 358ms/step - loss: 0.0023 - accuracy: 0.9990 - f1: 0.9826\n",
      "Epoch 8/20\n",
      "100/100 [==============================] - 35s 354ms/step - loss: 0.0022 - accuracy: 0.9991 - f1: 0.9836\n",
      "Epoch 9/20\n",
      "100/100 [==============================] - 36s 358ms/step - loss: 0.0021 - accuracy: 0.9991 - f1: 0.9843\n",
      "Epoch 10/20\n",
      "100/100 [==============================] - 35s 352ms/step - loss: 0.0021 - accuracy: 0.9991 - f1: 0.9849\n",
      "Epoch 11/20\n",
      "100/100 [==============================] - 35s 350ms/step - loss: 0.0020 - accuracy: 0.9992 - f1: 0.9854\n",
      "Epoch 12/20\n",
      "100/100 [==============================] - 35s 353ms/step - loss: 0.0019 - accuracy: 0.9992 - f1: 0.9855\n",
      "Epoch 13/20\n",
      "100/100 [==============================] - 35s 351ms/step - loss: 0.0018 - accuracy: 0.9992 - f1: 0.9863\n",
      "Epoch 14/20\n",
      "100/100 [==============================] - 35s 349ms/step - loss: 0.0018 - accuracy: 0.9992 - f1: 0.9862\n",
      "Epoch 15/20\n",
      "100/100 [==============================] - 35s 347ms/step - loss: 0.0018 - accuracy: 0.9992 - f1: 0.9866\n",
      "Epoch 16/20\n",
      "100/100 [==============================] - 36s 365ms/step - loss: 0.0017 - accuracy: 0.9993 - f1: 0.9875\n",
      "Epoch 17/20\n",
      "100/100 [==============================] - 37s 367ms/step - loss: 0.0017 - accuracy: 0.9993 - f1: 0.9876\n",
      "Epoch 18/20\n",
      "100/100 [==============================] - 36s 357ms/step - loss: 0.0016 - accuracy: 0.9993 - f1: 0.9878\n",
      "Epoch 19/20\n",
      "100/100 [==============================] - 36s 359ms/step - loss: 0.0016 - accuracy: 0.9993 - f1: 0.9879\n",
      "Epoch 20/20\n",
      "100/100 [==============================] - 35s 350ms/step - loss: 0.0016 - accuracy: 0.9993 - f1: 0.9878\n"
     ]
    }
   ],
   "source": [
    "history = model.fit(\n",
    "    train_generator,\n",
    "    steps_per_epoch=100,\n",
    "    epochs = 20,\n",
    "    callbacks=[cb]\n",
    ")"
   ]
  },
  {
   "cell_type": "code",
   "execution_count": 16,
   "metadata": {
    "ExecuteTime": {
     "end_time": "2024-02-22T17:39:59.063950Z",
     "start_time": "2024-02-22T17:39:57.178608Z"
    }
   },
   "outputs": [
    {
     "name": "stderr",
     "output_type": "stream",
     "text": [
      "2024-02-22 18:39:57.396006: I tensorflow/core/grappler/optimizers/custom_graph_optimizer_registry.cc:114] Plugin optimizer for device_type GPU is enabled.\n"
     ]
    },
    {
     "name": "stdout",
     "output_type": "stream",
     "text": [
      "1/1 [==============================] - 2s 2s/step\n"
     ]
    }
   ],
   "source": [
    "X, y = next(train_generator)\n",
    "y_pred = model.predict(X)"
   ]
  },
  {
   "cell_type": "code",
   "execution_count": 18,
   "metadata": {
    "ExecuteTime": {
     "end_time": "2024-02-22T17:40:11.418426Z",
     "start_time": "2024-02-22T17:40:11.279335Z"
    }
   },
   "outputs": [
    {
     "data": {
      "text/plain": "<Figure size 1920x1440 with 3 Axes>",
      "image/png": "[encoded data removed]"
     },
     "metadata": {},
     "output_type": "display_data"
    }
   ],
   "source": [
    "im_id = np.random.randint(0, batch_size)\n",
    "f, ax = plt.subplots(1, 3, dpi=300)\n",
    "input_image = X[im_id]\n",
    "predicted_image = y_pred[im_id]>0.5\n",
    "predicted_image = predicted_image.reshape(patch_size, patch_size)\n",
    "ground_truth = y[im_id]\n",
    "\n",
    "rgb_image = np.dstack((input_image, input_image, input_image)) * 255\n",
    "green = rgb_image[:, :, 1]\n",
    "green[(predicted_image == 1) & (input_image == 0)] = 255\n",
    "rgb_image[:, :, 1] = green\n",
    "\n",
    "ax[0].imshow(input_image, cmap='gray')\n",
    "ax[0].set_title('Input Image')\n",
    "ax[0].set_axis_off()\n",
    "ax[1].imshow(rgb_image, cmap='gray')\n",
    "ax[1].set_title('Model Prediction')\n",
    "ax[1].set_axis_off()\n",
    "ax[2].imshow(ground_truth, cmap='gray')\n",
    "ax[2].set_title('Ground Truth')\n",
    "ax[2].set_axis_off()"
   ]
  },
  {
   "cell_type": "code",
   "execution_count": 23,
   "outputs": [],
   "source": [
    "import cv2\n",
    "def padder(image, patch_size):\n",
    "    \"\"\"\n",
    "    Adds padding to an image to make its dimensions divisible by a specified patch size.\n",
    "\n",
    "    This function calculates the amount of padding needed for both the height and width of an image so that its dimensions become divisible by the given patch size. The padding is applied evenly to both sides of each dimension (top and bottom for height, left and right for width). If the padding amount is odd, one extra pixel is added to the bottom or right side. The padding color is set to black (0, 0, 0).\n",
    "\n",
    "    Parameters:\n",
    "    - image (numpy.ndarray): The input image as a NumPy array. Expected shape is (height, width, channels).\n",
    "    - patch_size (int): The patch size to which the image dimensions should be divisible. It's applied to both height and width.\n",
    "\n",
    "    Returns:\n",
    "    - numpy.ndarray: The padded image as a NumPy array with the same number of channels as the input. Its dimensions are adjusted to be divisible by the specified patch size.\n",
    "\n",
    "    Example:\n",
    "    - padded_image = padder(cv2.imread('example.jpg'), 128)\n",
    "\n",
    "    \"\"\"\n",
    "    h = image.shape[0]\n",
    "    w = image.shape[1]\n",
    "    height_padding = ((h // patch_size) + 1) * patch_size - h\n",
    "    width_padding = ((w // patch_size) + 1) * patch_size - w\n",
    "\n",
    "    top_padding = int(height_padding / 2)\n",
    "    bottom_padding = height_padding - top_padding\n",
    "\n",
    "    left_padding = int(width_padding / 2)\n",
    "    right_padding = width_padding - left_padding\n",
    "\n",
    "    padded_image = cv2.copyMakeBorder(image, top_padding, bottom_padding, left_padding, right_padding,\n",
    "                                      cv2.BORDER_CONSTANT, value=[25, 48, 121])\n",
    "\n",
    "    return padded_image"
   ],
   "metadata": {
    "collapsed": false,
    "ExecuteTime": {
     "end_time": "2024-02-22T17:41:21.744177Z",
     "start_time": "2024-02-22T17:41:21.726314Z"
    }
   }
  },
  {
   "cell_type": "code",
   "execution_count": 48,
   "metadata": {
    "ExecuteTime": {
     "end_time": "2024-02-22T17:49:22.098960Z",
     "start_time": "2024-02-22T17:49:22.021466Z"
    }
   },
   "outputs": [],
   "source": [
    "from patchify import patchify, unpatchify\n",
    "\n",
    "overlapping_image = cv2.imread(\"overlapping_masks/valerian/000_43-18-ROOT1-2023-08-08_pvdCherry_OD001_Col0_01-Fish Eye Corrected_predicted.tif\")[:,0:4112]\n",
    "dims = []\n",
    "patch_size = 256\n",
    "overlapping_image = padder(overlapping_image, patch_size)\n",
    "patches = patchify(overlapping_image, (patch_size, patch_size, 1), step=patch_size)\n",
    "dims.append([overlapping_image.shape, patches.shape])\n",
    "\n",
    "patches = patches.reshape(-1, patch_size, patch_size, 1)\n"
   ]
  },
  {
   "cell_type": "code",
   "execution_count": 50,
   "outputs": [
    {
     "name": "stdout",
     "output_type": "stream",
     "text": [
      "7/7 [==============================] - 1s 116ms/step\n"
     ]
    }
   ],
   "source": [
    "preds = model.predict(patches)"
   ],
   "metadata": {
    "collapsed": false,
    "ExecuteTime": {
     "end_time": "2024-02-22T17:49:30.016992Z",
     "start_time": "2024-02-22T17:49:29.104158Z"
    }
   }
  },
  {
   "cell_type": "code",
   "execution_count": 52,
   "outputs": [],
   "source": [
    "preds = preds.reshape(12, 17, 1, 256, 256, 1)  # reshape the prediction\n",
    "prediction_image = unpatchify(preds, (3072, 4352, 1))"
   ],
   "metadata": {
    "collapsed": false,
    "ExecuteTime": {
     "end_time": "2024-02-22T17:49:40.839353Z",
     "start_time": "2024-02-22T17:49:40.788040Z"
    }
   }
  },
  {
   "cell_type": "code",
   "execution_count": 54,
   "outputs": [
    {
     "data": {
      "text/plain": "True"
     },
     "execution_count": 54,
     "metadata": {},
     "output_type": "execute_result"
    }
   ],
   "source": [
    "# fig = plt.figure(figsize=(3.54,3.54), dpi=600)\n",
    "# plt.imshow(prediction_image, cmap='grey')\n",
    "\n",
    "cv2.imwrite(\"overlapped_w_discontinuityapplied.png\", prediction_image)"
   ],
   "metadata": {
    "collapsed": false,
    "ExecuteTime": {
     "end_time": "2024-02-22T17:50:46.976387Z",
     "start_time": "2024-02-22T17:50:46.935364Z"
    }
   }
  },
  {
   "cell_type": "code",
   "execution_count": 51,
   "outputs": [
    {
     "data": {
      "text/plain": "[[(3072, 4352, 3), (12, 17, 1, 256, 256, 1)]]"
     },
     "execution_count": 51,
     "metadata": {},
     "output_type": "execute_result"
    }
   ],
   "source": [
    "dims"
   ],
   "metadata": {
    "collapsed": false,
    "ExecuteTime": {
     "end_time": "2024-02-22T17:49:32.022402Z",
     "start_time": "2024-02-22T17:49:32.004214Z"
    }
   }
  },
  {
   "cell_type": "code",
   "execution_count": null,
   "outputs": [],
   "source": [],
   "metadata": {
    "collapsed": false
   }
  }
 ],
 "metadata": {
  "kernelspec": {
   "display_name": "y2b",
   "language": "python",
   "name": "python3"
  },
  "language_info": {
   "codemirror_mode": {
    "name": "ipython",
    "version": 3
   },
   "file_extension": ".py",
   "mimetype": "text/x-python",
   "name": "python",
   "nbconvert_exporter": "python",
   "pygments_lexer": "ipython3",
   "version": "3.8.16"
  }
 },
 "nbformat": 4,
 "nbformat_minor": 2
}
