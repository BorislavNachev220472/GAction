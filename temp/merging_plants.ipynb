{
 "cells": [
  {
   "cell_type": "code",
   "execution_count": null,
   "metadata": {},
   "outputs": [],
   "source": [
    "import os\n",
    "import opencv2 as cv2\n",
    "import numpy as np"
   ]
  },
  {
   "cell_type": "code",
   "execution_count": null,
   "metadata": {},
   "outputs": [],
   "source": [
    "primary_folder = ''"
   ]
  },
  {
   "cell_type": "code",
   "execution_count": null,
   "metadata": {},
   "outputs": [],
   "source": [
    "for folder in os.listdir(primary_folder):\n",
    "    img = []\n",
    "    for filename in os.listdir(primary_folder + '/' + folder):\n",
    "        if filename.endswith('.tif'):\n",
    "            for i in range(5):\n",
    "                img[i] = cv2.imread(primary_folder + '/' + folder + '/' + filename)\n",
    "        image = cv2.bitwise_and(img[0], img[1])\n",
    "        image = cv2.bitwise_and(image, img[2])\n",
    "        image = cv2.bitwise_and(image, img[3])\n",
    "        image = cv2.bitwise_and(image, img[4])\n",
    "        filename = filename.replace('.tif', '.png')\n",
    "        cv2.imwrite(primary_folder + '/' + folder + '/' + filename, image)\n",
    "\n"
   ]
  }
 ],
 "metadata": {
  "language_info": {
   "name": "python"
  }
 },
 "nbformat": 4,
 "nbformat_minor": 2
}
